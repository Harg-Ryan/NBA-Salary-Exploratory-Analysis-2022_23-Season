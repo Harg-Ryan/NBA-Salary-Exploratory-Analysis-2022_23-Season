{
 "cells": [
  {
   "cell_type": "markdown",
   "metadata": {},
   "source": [
    "# Exploratory Analysis Report of Salary for the NBA 2022-23 Season\n",
    "\n",
    "##### Ryan Hargreaves, August 2023"
   ]
  },
  {
   "cell_type": "markdown",
   "metadata": {},
   "source": [
    "## Executive Summary:"
   ]
  },
  {
   "cell_type": "markdown",
   "metadata": {},
   "source": [
    "Salary values within the NBA have a shocking range, from nearly 50 million USD per year down to just under 60 thousand USD per year.  The statistic most closely associated with a player's salary is their PPG (points per game), however the weighting is not equal across all positions. The Center position has the highest correlation with salary weighing in at .81.  Although the outrageous contracts such as Stephen Curry's 4 years 215 million dollar contract make news headlines, over half the league makes less than 4.5 million per year. As players have begun to emphasize their health and longevity, some players are able to continue their high level of play well in to their thirties, allowing them to sign multiple large contracts over their career. LeBron James is a blueprint example of this, but players like Stephen Curry and Kevin Durant are less athletically blessed players can keep up their high level of play as time goes on as well.  Any player looking to increase their salary should look to improve their scoring from any range, 2PT, 3PT, or FT. Efficiency has been the hallmark of the modern NBA, but salaries do not seem to reflect that as much as pure scoring is.  General Managers wanting to get the best value for their money will want to think about engaging in early negotations of extensions if a player is showing promising scoring talent.  As well, GMs can rest easier signing an \"older\" player to a big or longer contract, as it looks that on average players are able to continue to produce at a high level than in years prior, so long as the player remains relatively injury free."
   ]
  },
  {
   "cell_type": "markdown",
   "metadata": {},
   "source": [
    "## Table of Contents\n",
    " #### - Executive Summary\n",
    " #### - Introduction\n",
    " #### - Analysis\n",
    " #### - Key Findings\n",
    " #### - Conclusion\n",
    " #### - Appendix"
   ]
  },
  {
   "cell_type": "markdown",
   "metadata": {},
   "source": [
    "## Introduction\n",
    "\n",
    "The NBA has been making headlines for years with the enormous contracts that superstars such as LeBron James, Stephen Curry, and Kevin Durant have received.  Many of these contracts are in excess of 40 million USD per *year*, and thanks to the prosperity of the league the contracts only show signs of growing. Just this summer, Jaylen Brown signed a 5 year 304 million dollar contract, making him the highest paid player in the league annually. But while the star players watch their salaries skyrocket, what about the rest of the league?  This report aims to have a look at salaries across the league for the 2022-23 season and reveal insights such as who is getting paid the most/least, which positions are getting paid the most/least, which stats correlate the most with salary, and other things either interesting or important. These findings will help determine which statistics and qualities could be important for a player looking to increase their own paycheque, and which things general managers will want to monitor to try and either re-sign players for a team friendly deal, or trade for players who might overproduce based on the salary they currently have."
   ]
  },
  {
   "cell_type": "markdown",
   "metadata": {},
   "source": [
    "## Data Description\n",
    "\n",
    "The data chosen for this analysis is the basic totals, per game, and salary statistics from the 2022-23 season. Two tables were taken from www.basketball-reference.com, and combined to create a table with a players total stats for the year, some created statistics for their 'per game' numbers, and finally their salary.\n",
    "\n",
    "Some players had recorded statistics but no recorded salary, these data entries were verified and removed where applicable.  Not every player in the NBA is paid by the NBA, as there are players on what is known as a 2-Way contract with the NBA affiliated G-League.  As well, there are players that were on 10 day contracts or bought out (also known as waived).  Not all salary data is published and known like that stats are recorded, so for the analysis those players aren't included in the analysis.\n",
    "\n",
    "Despite this, the dataset is still roughly 450 entries long, and it is commonly said that the league consists of roughly 450 players, so we feel confident in saying that our analysis is a large and accurate sample of the true population of players who saw the NBA floor in 2022-23."
   ]
  },
  {
   "cell_type": "markdown",
   "metadata": {},
   "source": [
    "## Data Exploration"
   ]
  },
  {
   "cell_type": "code",
   "execution_count": 3,
   "metadata": {},
   "outputs": [],
   "source": [
    "%run -i ../scripts/SalaryAnalysis.py\n",
    "import plotly.express as px\n",
    "import seaborn as sns\n",
    "import pandas as pd\n",
    "import matplotlib.pyplot as plt\n",
    "\n",
    "pd.set_option('display.max_columns', None)"
   ]
  },
  {
   "cell_type": "markdown",
   "metadata": {},
   "source": [
    "### Univariate Analysis:\n",
    "Present key summary statistics, including measures of central tendency and dispersion, for each variable. Accompany the statistics with well-designed histograms or box plots."
   ]
  },
  {
   "cell_type": "markdown",
   "metadata": {},
   "source": [
    "The first thing we'll do for this analysis is get some basic measure with which we can use to better understand the data as we explore it."
   ]
  },
  {
   "cell_type": "code",
   "execution_count": 31,
   "metadata": {},
   "outputs": [
    {
     "data": {
      "text/html": [
       "<div>\n",
       "<style scoped>\n",
       "    .dataframe tbody tr th:only-of-type {\n",
       "        vertical-align: middle;\n",
       "    }\n",
       "\n",
       "    .dataframe tbody tr th {\n",
       "        vertical-align: top;\n",
       "    }\n",
       "\n",
       "    .dataframe thead th {\n",
       "        text-align: right;\n",
       "    }\n",
       "</style>\n",
       "<table border=\"1\" class=\"dataframe\">\n",
       "  <thead>\n",
       "    <tr style=\"text-align: right;\">\n",
       "      <th></th>\n",
       "      <th>count</th>\n",
       "      <th>mean</th>\n",
       "      <th>std</th>\n",
       "      <th>min</th>\n",
       "      <th>25%</th>\n",
       "      <th>50%</th>\n",
       "      <th>75%</th>\n",
       "      <th>max</th>\n",
       "    </tr>\n",
       "  </thead>\n",
       "  <tbody>\n",
       "    <tr>\n",
       "      <th>salary</th>\n",
       "      <td>464.00</td>\n",
       "      <td>9,485,579.85</td>\n",
       "      <td>10,808,855.23</td>\n",
       "      <td>58,493.00</td>\n",
       "      <td>1,958,801.50</td>\n",
       "      <td>4,580,760.00</td>\n",
       "      <td>12,622,500.00</td>\n",
       "      <td>48,070,014.00</td>\n",
       "    </tr>\n",
       "  </tbody>\n",
       "</table>\n",
       "</div>"
      ],
      "text/plain": [
       "         count          mean            std        min           25%  \\\n",
       "salary  464.00  9,485,579.85  10,808,855.23  58,493.00  1,958,801.50   \n",
       "\n",
       "                 50%            75%            max  \n",
       "salary  4,580,760.00  12,622,500.00  48,070,014.00  "
      ]
     },
     "execution_count": 31,
     "metadata": {},
     "output_type": "execute_result"
    }
   ],
   "source": [
    "central = pd.DataFrame(df['salary'].astype('Int64').describe().round()).T\n",
    "\n",
    "# Define custom formatting function\n",
    "def format_with_commas(value):\n",
    "    return f'{value:,.2f}'\n",
    "\n",
    "# Apply formatting to DataFrame\n",
    "formatted_df = df.describe().applymap(format_with_commas)\n",
    "\n",
    "formatted_df[['salary']].T"
   ]
  },
  {
   "cell_type": "markdown",
   "metadata": {},
   "source": [
    "We have 464 players in our dataset, with a mean salary of \\$9.48 million"
   ]
  },
  {
   "cell_type": "markdown",
   "metadata": {},
   "source": [
    "A common introductory question when salaries are involved is who is making the most, and who is making the least?"
   ]
  },
  {
   "cell_type": "code",
   "execution_count": 6,
   "metadata": {},
   "outputs": [
    {
     "data": {
      "text/html": [
       "<div>\n",
       "<style scoped>\n",
       "    .dataframe tbody tr th:only-of-type {\n",
       "        vertical-align: middle;\n",
       "    }\n",
       "\n",
       "    .dataframe tbody tr th {\n",
       "        vertical-align: top;\n",
       "    }\n",
       "\n",
       "    .dataframe thead th {\n",
       "        text-align: right;\n",
       "    }\n",
       "</style>\n",
       "<table border=\"1\" class=\"dataframe\">\n",
       "  <thead>\n",
       "    <tr style=\"text-align: right;\">\n",
       "      <th></th>\n",
       "      <th>2P</th>\n",
       "      <th>2P%</th>\n",
       "      <th>2PA</th>\n",
       "      <th>3P</th>\n",
       "      <th>3P%</th>\n",
       "      <th>3PA</th>\n",
       "      <th>APG</th>\n",
       "      <th>AST</th>\n",
       "      <th>Age</th>\n",
       "      <th>BLK</th>\n",
       "      <th>BPG</th>\n",
       "      <th>DRB</th>\n",
       "      <th>FG</th>\n",
       "      <th>FG%</th>\n",
       "      <th>FGA</th>\n",
       "      <th>FT</th>\n",
       "      <th>FT%</th>\n",
       "      <th>FTA</th>\n",
       "      <th>G</th>\n",
       "      <th>GS</th>\n",
       "      <th>MP</th>\n",
       "      <th>ORB</th>\n",
       "      <th>PF</th>\n",
       "      <th>PPG</th>\n",
       "      <th>PTS</th>\n",
       "      <th>PlayerID</th>\n",
       "      <th>Pos</th>\n",
       "      <th>SPG</th>\n",
       "      <th>STL</th>\n",
       "      <th>TOV</th>\n",
       "      <th>TRB</th>\n",
       "      <th>TRPG</th>\n",
       "      <th>Tm</th>\n",
       "      <th>astToTO</th>\n",
       "      <th>eFG%</th>\n",
       "      <th>salary</th>\n",
       "      <th>dollarPerMinute</th>\n",
       "      <th>dollarPerFG</th>\n",
       "      <th>dollarPerPoint</th>\n",
       "    </tr>\n",
       "    <tr>\n",
       "      <th>Player</th>\n",
       "      <th></th>\n",
       "      <th></th>\n",
       "      <th></th>\n",
       "      <th></th>\n",
       "      <th></th>\n",
       "      <th></th>\n",
       "      <th></th>\n",
       "      <th></th>\n",
       "      <th></th>\n",
       "      <th></th>\n",
       "      <th></th>\n",
       "      <th></th>\n",
       "      <th></th>\n",
       "      <th></th>\n",
       "      <th></th>\n",
       "      <th></th>\n",
       "      <th></th>\n",
       "      <th></th>\n",
       "      <th></th>\n",
       "      <th></th>\n",
       "      <th></th>\n",
       "      <th></th>\n",
       "      <th></th>\n",
       "      <th></th>\n",
       "      <th></th>\n",
       "      <th></th>\n",
       "      <th></th>\n",
       "      <th></th>\n",
       "      <th></th>\n",
       "      <th></th>\n",
       "      <th></th>\n",
       "      <th></th>\n",
       "      <th></th>\n",
       "      <th></th>\n",
       "      <th></th>\n",
       "      <th></th>\n",
       "      <th></th>\n",
       "      <th></th>\n",
       "      <th></th>\n",
       "    </tr>\n",
       "  </thead>\n",
       "  <tbody>\n",
       "    <tr>\n",
       "      <th>Stephen Curry</th>\n",
       "      <td>286</td>\n",
       "      <td>0.579</td>\n",
       "      <td>494</td>\n",
       "      <td>273</td>\n",
       "      <td>0.427</td>\n",
       "      <td>639</td>\n",
       "      <td>6.285714</td>\n",
       "      <td>352</td>\n",
       "      <td>34</td>\n",
       "      <td>20</td>\n",
       "      <td>0.357143</td>\n",
       "      <td>302</td>\n",
       "      <td>559</td>\n",
       "      <td>0.493</td>\n",
       "      <td>1133</td>\n",
       "      <td>257</td>\n",
       "      <td>0.915</td>\n",
       "      <td>281</td>\n",
       "      <td>56</td>\n",
       "      <td>56</td>\n",
       "      <td>1941</td>\n",
       "      <td>39</td>\n",
       "      <td>117</td>\n",
       "      <td>29.428571</td>\n",
       "      <td>1648</td>\n",
       "      <td>curryst01</td>\n",
       "      <td>PG</td>\n",
       "      <td>0.928571</td>\n",
       "      <td>52</td>\n",
       "      <td>179.0</td>\n",
       "      <td>341</td>\n",
       "      <td>6.089286</td>\n",
       "      <td>GSW</td>\n",
       "      <td>1.96648</td>\n",
       "      <td>0.614</td>\n",
       "      <td>48070014</td>\n",
       "      <td>24765.59</td>\n",
       "      <td>85992.87</td>\n",
       "      <td>29168.7</td>\n",
       "    </tr>\n",
       "    <tr>\n",
       "      <th>Stanley Umude</th>\n",
       "      <td>0</td>\n",
       "      <td>NaN</td>\n",
       "      <td>0</td>\n",
       "      <td>0</td>\n",
       "      <td>0.000</td>\n",
       "      <td>1</td>\n",
       "      <td>0.000000</td>\n",
       "      <td>0</td>\n",
       "      <td>23</td>\n",
       "      <td>1</td>\n",
       "      <td>1.000000</td>\n",
       "      <td>0</td>\n",
       "      <td>0</td>\n",
       "      <td>0.000</td>\n",
       "      <td>1</td>\n",
       "      <td>2</td>\n",
       "      <td>1.000</td>\n",
       "      <td>2</td>\n",
       "      <td>1</td>\n",
       "      <td>0</td>\n",
       "      <td>2</td>\n",
       "      <td>0</td>\n",
       "      <td>0</td>\n",
       "      <td>2.000000</td>\n",
       "      <td>2</td>\n",
       "      <td>umudest01</td>\n",
       "      <td>SG</td>\n",
       "      <td>1.000000</td>\n",
       "      <td>1</td>\n",
       "      <td>NaN</td>\n",
       "      <td>0</td>\n",
       "      <td>0.000000</td>\n",
       "      <td>DET</td>\n",
       "      <td>NaN</td>\n",
       "      <td>0.000</td>\n",
       "      <td>58493</td>\n",
       "      <td>29246.50</td>\n",
       "      <td>NaN</td>\n",
       "      <td>29246.5</td>\n",
       "    </tr>\n",
       "  </tbody>\n",
       "</table>\n",
       "</div>"
      ],
      "text/plain": [
       "                2P    2P%  2PA   3P    3P%  3PA       APG  AST  Age  BLK  \\\n",
       "Player                                                                     \n",
       "Stephen Curry  286  0.579  494  273  0.427  639  6.285714  352   34   20   \n",
       "Stanley Umude    0    NaN    0    0  0.000    1  0.000000    0   23    1   \n",
       "\n",
       "                    BPG  DRB   FG    FG%   FGA   FT    FT%  FTA   G  GS    MP  \\\n",
       "Player                                                                          \n",
       "Stephen Curry  0.357143  302  559  0.493  1133  257  0.915  281  56  56  1941   \n",
       "Stanley Umude  1.000000    0    0  0.000     1    2  1.000    2   1   0     2   \n",
       "\n",
       "               ORB   PF        PPG   PTS   PlayerID Pos       SPG  STL    TOV  \\\n",
       "Player                                                                          \n",
       "Stephen Curry   39  117  29.428571  1648  curryst01  PG  0.928571   52  179.0   \n",
       "Stanley Umude    0    0   2.000000     2  umudest01  SG  1.000000    1    NaN   \n",
       "\n",
       "               TRB      TRPG   Tm  astToTO   eFG%    salary  dollarPerMinute  \\\n",
       "Player                                                                         \n",
       "Stephen Curry  341  6.089286  GSW  1.96648  0.614  48070014         24765.59   \n",
       "Stanley Umude    0  0.000000  DET      NaN  0.000     58493         29246.50   \n",
       "\n",
       "               dollarPerFG  dollarPerPoint  \n",
       "Player                                      \n",
       "Stephen Curry     85992.87         29168.7  \n",
       "Stanley Umude          NaN         29246.5  "
      ]
     },
     "execution_count": 6,
     "metadata": {},
     "output_type": "execute_result"
    }
   ],
   "source": [
    "df.query('salary == salary.min() or salary == salary.max()')"
   ]
  },
  {
   "cell_type": "markdown",
   "metadata": {},
   "source": [
    "Unsurprisingly the top salary is the household name Stephen Curry, coming in at 48 million a year. This is an insane amount of money for one year, but considering the player's popularity and ability it would make sense that he's the top earner in the league.  What is surprising here is the lowest salary held by Stanley Umude at only 58 thousand dollars.  It's commonly believed that all professional athletes must be millionaires, and although we cannot speculate on Mr.Umude's total net worth, 58 thousand annually is a shockingly low number to be paid to play any sport at the highest level."
   ]
  },
  {
   "cell_type": "code",
   "execution_count": 14,
   "metadata": {},
   "outputs": [
    {
     "data": {
      "image/png": "[encoded data removed]",
      "text/plain": [
       "<Figure size 640x480 with 1 Axes>"
      ]
     },
     "metadata": {},
     "output_type": "display_data"
    }
   ],
   "source": [
    "ax = sns.histplot(data = df, x='salary', kde=True, bins = 25).set(title='Salary Distribution 2022-23')\n",
    "plt.ticklabel_format(style='plain')\n",
    "plt.show()"
   ]
  },
  {
   "cell_type": "markdown",
   "metadata": {},
   "source": [
    "The enchantment begins to fade.  The histogram of players' salaries shows a *considerably* right-skewed graph. Just by looking we can see roughly 200 players are earning less than about 5 million. After that it drops off fairly normally, but then has a little bump at just over 30 million and then back down."
   ]
  },
  {
   "cell_type": "markdown",
   "metadata": {},
   "source": [
    "Since the distribution is so heavily skewed right, a look at the median will perhaps be more insightful than the mean. For now we will drill down into the lower 50% of players who earn less than the median and see what things look like."
   ]
  },
  {
   "cell_type": "code",
   "execution_count": 15,
   "metadata": {},
   "outputs": [
    {
     "data": {
      "image/png": "[encoded data removed]",
      "text/plain": [
       "<Figure size 640x480 with 1 Axes>"
      ]
     },
     "metadata": {},
     "output_type": "display_data"
    }
   ],
   "source": [
    "medianLess = df.query('salary <= salary.median()')\n",
    "ax = sns.histplot(data = medianLess, x='salary', kde=True, bins = 20).set(title='Salary Distribution 2022-23')\n",
    "plt.ticklabel_format(style='plain')\n",
    "plt.show()"
   ]
  },
  {
   "cell_type": "markdown",
   "metadata": {},
   "source": [
    "This graph gives us a better look at things.  It appears that a large portion of the players earned between 1.5-2.5 million in 2022-23. A quick look at the NBA Veteran Minimum contract shows that the floor is set at 953,000 thousand for rookies, players with 10 years experience or more receive a minimum of 2.72 million, and everything inbetween for players with years of experience between that. This suggests that a lot of players are making close to their minimum based on what they can be paid by the league."
   ]
  },
  {
   "cell_type": "markdown",
   "metadata": {},
   "source": [
    "### Bivariate and Multivariate Analysis:\n",
    "Showcase relationships between variables using high-quality scatter plots, correlation matrices, and heatmaps. Highlight any significant correlations or patterns you observed."
   ]
  },
  {
   "cell_type": "markdown",
   "metadata": {},
   "source": [
    "### Outlier Detection:\n",
    " Discuss any outliers you discovered and their potential impact on the analysis. Provide visual evidence, such as scatter plots with marked outliers."
   ]
  },
  {
   "cell_type": "markdown",
   "metadata": {},
   "source": [
    "### Categorical Variables:\n",
    "Use visually appealing bar charts or pie charts to demonstrate the distribution of categorical variables and any relationships between them."
   ]
  },
  {
   "cell_type": "markdown",
   "metadata": {},
   "source": [
    "## Key Findings\n",
    "\n",
    "Summarize the most critical insights from your analysis. Emphasize how these findings relate to the initial research questions and their implications for decision-making."
   ]
  },
  {
   "cell_type": "markdown",
   "metadata": {},
   "source": [
    "## Recommendations and Next Steps:\n",
    "Provide actionable recommendations based on your findings. If your EDA has strategic implications, outline potential courses of action and their expected outcomes. Discuss possible follow-up analyses or data collection efforts."
   ]
  },
  {
   "cell_type": "markdown",
   "metadata": {},
   "source": [
    "## Limitations:  \n",
    "The dataset used for this analysis was gathered from https://www.basketball-reference.com/, and some salary numbers were cross referenced with https://hoopshype.com/.  \n",
    "\n",
    "Due to the NBA having G-League 2 way contracts, 10 day contracts, contract waiving, and other such things it is very difficult to get a salary dataset for *every* player to see the floor for a season.  As such, this is just a (large) sample of the true population. In order to conduct any useful analysis, players that had stats recorded for the season on basketball-reference, but did not have a salary recorded on the website for the season were removed from the dataset.  Although it is sad to say, but if your salary wasn't recorded on basketball reference, your statistical impact probably wasn't significant either.\n",
    "\n",
    "These salary numbers were pulled for the start of the season, therefore any buyouts, contract negotations, or anything of the sort are not reflected. In the example of buy outs, players and their team can choose to pay out the contract to release the player, but perhaps at a price less than what they are fully owed.  These numbers are not made public so it would be impossible to tally their true earnings for the season, which is I've chosen to just work with the salary numbers dictated in their contract for simplicity."
   ]
  },
  {
   "cell_type": "markdown",
   "metadata": {},
   "source": [
    "## Conclusion:\n",
    "Wrap up the report by reiterating the importance of the analysis and summarizing its main contributions to the business objectives."
   ]
  },
  {
   "cell_type": "markdown",
   "metadata": {},
   "source": [
    "## Visual Appendices:\n",
    "Include well-labeled, high-quality visualizations in the appendices. Reference these visuals in the main body of the report."
   ]
  },
  {
   "cell_type": "markdown",
   "metadata": {},
   "source": [
    "## References:\n",
    "Provide references to any external sources you used for analysis techniques, domain knowledge, or concepts.\n",
    "\n",
    "basketball reference, hoops hype"
   ]
  },
  {
   "cell_type": "markdown",
   "metadata": {},
   "source": [
    "***\n",
    "### Body"
   ]
  },
  {
   "cell_type": "markdown",
   "metadata": {},
   "source": [
    "First we need to import my python file with the analysis, along with any necessary libraries to display graphs and tables. "
   ]
  },
  {
   "cell_type": "code",
   "execution_count": null,
   "metadata": {},
   "outputs": [
    {
     "data": {
      "text/html": [
       "<div>\n",
       "<style scoped>\n",
       "    .dataframe tbody tr th:only-of-type {\n",
       "        vertical-align: middle;\n",
       "    }\n",
       "\n",
       "    .dataframe tbody tr th {\n",
       "        vertical-align: top;\n",
       "    }\n",
       "\n",
       "    .dataframe thead th {\n",
       "        text-align: right;\n",
       "    }\n",
       "</style>\n",
       "<table border=\"1\" class=\"dataframe\">\n",
       "  <thead>\n",
       "    <tr style=\"text-align: right;\">\n",
       "      <th></th>\n",
       "      <th>2P</th>\n",
       "      <th>2P%</th>\n",
       "      <th>2PA</th>\n",
       "      <th>3P</th>\n",
       "      <th>3P%</th>\n",
       "      <th>3PA</th>\n",
       "      <th>APG</th>\n",
       "      <th>AST</th>\n",
       "      <th>Age</th>\n",
       "      <th>BLK</th>\n",
       "      <th>BPG</th>\n",
       "      <th>DRB</th>\n",
       "      <th>FG</th>\n",
       "      <th>FG%</th>\n",
       "      <th>FGA</th>\n",
       "      <th>FT</th>\n",
       "      <th>FT%</th>\n",
       "      <th>FTA</th>\n",
       "      <th>G</th>\n",
       "      <th>GS</th>\n",
       "      <th>MP</th>\n",
       "      <th>ORB</th>\n",
       "      <th>PF</th>\n",
       "      <th>PPG</th>\n",
       "      <th>PTS</th>\n",
       "      <th>PlayerID</th>\n",
       "      <th>Pos</th>\n",
       "      <th>SPG</th>\n",
       "      <th>STL</th>\n",
       "      <th>TOV</th>\n",
       "      <th>TRB</th>\n",
       "      <th>TRPG</th>\n",
       "      <th>Tm</th>\n",
       "      <th>astToTO</th>\n",
       "      <th>eFG%</th>\n",
       "      <th>salary</th>\n",
       "      <th>dollarPerMinute</th>\n",
       "      <th>dollarPerFG</th>\n",
       "      <th>dollarPerPoint</th>\n",
       "    </tr>\n",
       "    <tr>\n",
       "      <th>Player</th>\n",
       "      <th></th>\n",
       "      <th></th>\n",
       "      <th></th>\n",
       "      <th></th>\n",
       "      <th></th>\n",
       "      <th></th>\n",
       "      <th></th>\n",
       "      <th></th>\n",
       "      <th></th>\n",
       "      <th></th>\n",
       "      <th></th>\n",
       "      <th></th>\n",
       "      <th></th>\n",
       "      <th></th>\n",
       "      <th></th>\n",
       "      <th></th>\n",
       "      <th></th>\n",
       "      <th></th>\n",
       "      <th></th>\n",
       "      <th></th>\n",
       "      <th></th>\n",
       "      <th></th>\n",
       "      <th></th>\n",
       "      <th></th>\n",
       "      <th></th>\n",
       "      <th></th>\n",
       "      <th></th>\n",
       "      <th></th>\n",
       "      <th></th>\n",
       "      <th></th>\n",
       "      <th></th>\n",
       "      <th></th>\n",
       "      <th></th>\n",
       "      <th></th>\n",
       "      <th></th>\n",
       "      <th></th>\n",
       "      <th></th>\n",
       "      <th></th>\n",
       "      <th></th>\n",
       "    </tr>\n",
       "  </thead>\n",
       "  <tbody>\n",
       "    <tr>\n",
       "      <th>Precious Achiuwa</th>\n",
       "      <td>167</td>\n",
       "      <td>0.564</td>\n",
       "      <td>296</td>\n",
       "      <td>29</td>\n",
       "      <td>0.269</td>\n",
       "      <td>108</td>\n",
       "      <td>0.909091</td>\n",
       "      <td>50</td>\n",
       "      <td>23</td>\n",
       "      <td>30</td>\n",
       "      <td>0.545455</td>\n",
       "      <td>228</td>\n",
       "      <td>196</td>\n",
       "      <td>0.485</td>\n",
       "      <td>404</td>\n",
       "      <td>87</td>\n",
       "      <td>0.702</td>\n",
       "      <td>124</td>\n",
       "      <td>55</td>\n",
       "      <td>12</td>\n",
       "      <td>1140</td>\n",
       "      <td>100</td>\n",
       "      <td>102</td>\n",
       "      <td>9.236364</td>\n",
       "      <td>508</td>\n",
       "      <td>achiupr01</td>\n",
       "      <td>C</td>\n",
       "      <td>0.563636</td>\n",
       "      <td>31</td>\n",
       "      <td>59.0</td>\n",
       "      <td>328</td>\n",
       "      <td>5.963636</td>\n",
       "      <td>TOR</td>\n",
       "      <td>0.847458</td>\n",
       "      <td>0.521</td>\n",
       "      <td>2840160</td>\n",
       "      <td>2491.37</td>\n",
       "      <td>14490.61</td>\n",
       "      <td>5590.87</td>\n",
       "    </tr>\n",
       "    <tr>\n",
       "      <th>Steven Adams</th>\n",
       "      <td>157</td>\n",
       "      <td>0.599</td>\n",
       "      <td>262</td>\n",
       "      <td>0</td>\n",
       "      <td>0.000</td>\n",
       "      <td>1</td>\n",
       "      <td>2.309524</td>\n",
       "      <td>97</td>\n",
       "      <td>29</td>\n",
       "      <td>46</td>\n",
       "      <td>1.095238</td>\n",
       "      <td>271</td>\n",
       "      <td>157</td>\n",
       "      <td>0.597</td>\n",
       "      <td>263</td>\n",
       "      <td>47</td>\n",
       "      <td>0.364</td>\n",
       "      <td>129</td>\n",
       "      <td>42</td>\n",
       "      <td>42</td>\n",
       "      <td>1133</td>\n",
       "      <td>214</td>\n",
       "      <td>98</td>\n",
       "      <td>8.595238</td>\n",
       "      <td>361</td>\n",
       "      <td>adamsst01</td>\n",
       "      <td>C</td>\n",
       "      <td>0.857143</td>\n",
       "      <td>36</td>\n",
       "      <td>79.0</td>\n",
       "      <td>485</td>\n",
       "      <td>11.547619</td>\n",
       "      <td>MEM</td>\n",
       "      <td>1.227848</td>\n",
       "      <td>0.597</td>\n",
       "      <td>17926829</td>\n",
       "      <td>15822.44</td>\n",
       "      <td>114183.62</td>\n",
       "      <td>49658.81</td>\n",
       "    </tr>\n",
       "    <tr>\n",
       "      <th>Bam Adebayo</th>\n",
       "      <td>601</td>\n",
       "      <td>0.545</td>\n",
       "      <td>1102</td>\n",
       "      <td>1</td>\n",
       "      <td>0.083</td>\n",
       "      <td>12</td>\n",
       "      <td>3.200000</td>\n",
       "      <td>240</td>\n",
       "      <td>25</td>\n",
       "      <td>61</td>\n",
       "      <td>0.813333</td>\n",
       "      <td>504</td>\n",
       "      <td>602</td>\n",
       "      <td>0.540</td>\n",
       "      <td>1114</td>\n",
       "      <td>324</td>\n",
       "      <td>0.806</td>\n",
       "      <td>402</td>\n",
       "      <td>75</td>\n",
       "      <td>75</td>\n",
       "      <td>2598</td>\n",
       "      <td>184</td>\n",
       "      <td>208</td>\n",
       "      <td>20.386667</td>\n",
       "      <td>1529</td>\n",
       "      <td>adebaba01</td>\n",
       "      <td>C</td>\n",
       "      <td>1.173333</td>\n",
       "      <td>88</td>\n",
       "      <td>187.0</td>\n",
       "      <td>688</td>\n",
       "      <td>9.173333</td>\n",
       "      <td>MIA</td>\n",
       "      <td>1.283422</td>\n",
       "      <td>0.541</td>\n",
       "      <td>30351780</td>\n",
       "      <td>11682.75</td>\n",
       "      <td>50418.24</td>\n",
       "      <td>19850.74</td>\n",
       "    </tr>\n",
       "    <tr>\n",
       "      <th>Ochai Agbaji</th>\n",
       "      <td>84</td>\n",
       "      <td>0.532</td>\n",
       "      <td>158</td>\n",
       "      <td>81</td>\n",
       "      <td>0.355</td>\n",
       "      <td>228</td>\n",
       "      <td>1.135593</td>\n",
       "      <td>67</td>\n",
       "      <td>22</td>\n",
       "      <td>15</td>\n",
       "      <td>0.254237</td>\n",
       "      <td>78</td>\n",
       "      <td>165</td>\n",
       "      <td>0.427</td>\n",
       "      <td>386</td>\n",
       "      <td>56</td>\n",
       "      <td>0.812</td>\n",
       "      <td>69</td>\n",
       "      <td>59</td>\n",
       "      <td>22</td>\n",
       "      <td>1209</td>\n",
       "      <td>43</td>\n",
       "      <td>99</td>\n",
       "      <td>7.915254</td>\n",
       "      <td>467</td>\n",
       "      <td>agbajoc01</td>\n",
       "      <td>SG</td>\n",
       "      <td>0.271186</td>\n",
       "      <td>16</td>\n",
       "      <td>41.0</td>\n",
       "      <td>121</td>\n",
       "      <td>2.050847</td>\n",
       "      <td>UTA</td>\n",
       "      <td>1.634146</td>\n",
       "      <td>0.532</td>\n",
       "      <td>3918360</td>\n",
       "      <td>3240.99</td>\n",
       "      <td>23747.64</td>\n",
       "      <td>8390.49</td>\n",
       "    </tr>\n",
       "    <tr>\n",
       "      <th>Santi Aldama</th>\n",
       "      <td>153</td>\n",
       "      <td>0.591</td>\n",
       "      <td>259</td>\n",
       "      <td>94</td>\n",
       "      <td>0.353</td>\n",
       "      <td>266</td>\n",
       "      <td>1.259740</td>\n",
       "      <td>97</td>\n",
       "      <td>22</td>\n",
       "      <td>48</td>\n",
       "      <td>0.623377</td>\n",
       "      <td>286</td>\n",
       "      <td>247</td>\n",
       "      <td>0.470</td>\n",
       "      <td>525</td>\n",
       "      <td>108</td>\n",
       "      <td>0.750</td>\n",
       "      <td>144</td>\n",
       "      <td>77</td>\n",
       "      <td>20</td>\n",
       "      <td>1682</td>\n",
       "      <td>85</td>\n",
       "      <td>143</td>\n",
       "      <td>9.038961</td>\n",
       "      <td>696</td>\n",
       "      <td>aldamsa01</td>\n",
       "      <td>PF</td>\n",
       "      <td>0.584416</td>\n",
       "      <td>45</td>\n",
       "      <td>60.0</td>\n",
       "      <td>371</td>\n",
       "      <td>4.818182</td>\n",
       "      <td>MEM</td>\n",
       "      <td>1.616667</td>\n",
       "      <td>0.560</td>\n",
       "      <td>2094120</td>\n",
       "      <td>1245.02</td>\n",
       "      <td>8478.22</td>\n",
       "      <td>3008.79</td>\n",
       "    </tr>\n",
       "  </tbody>\n",
       "</table>\n",
       "</div>"
      ],
      "text/plain": [
       "                   2P    2P%   2PA  3P    3P%  3PA       APG  AST  Age  BLK  \\\n",
       "Player                                                                        \n",
       "Precious Achiuwa  167  0.564   296  29  0.269  108  0.909091   50   23   30   \n",
       "Steven Adams      157  0.599   262   0  0.000    1  2.309524   97   29   46   \n",
       "Bam Adebayo       601  0.545  1102   1  0.083   12  3.200000  240   25   61   \n",
       "Ochai Agbaji       84  0.532   158  81  0.355  228  1.135593   67   22   15   \n",
       "Santi Aldama      153  0.591   259  94  0.353  266  1.259740   97   22   48   \n",
       "\n",
       "                       BPG  DRB   FG    FG%   FGA   FT    FT%  FTA   G  GS  \\\n",
       "Player                                                                       \n",
       "Precious Achiuwa  0.545455  228  196  0.485   404   87  0.702  124  55  12   \n",
       "Steven Adams      1.095238  271  157  0.597   263   47  0.364  129  42  42   \n",
       "Bam Adebayo       0.813333  504  602  0.540  1114  324  0.806  402  75  75   \n",
       "Ochai Agbaji      0.254237   78  165  0.427   386   56  0.812   69  59  22   \n",
       "Santi Aldama      0.623377  286  247  0.470   525  108  0.750  144  77  20   \n",
       "\n",
       "                    MP  ORB   PF        PPG   PTS   PlayerID Pos       SPG  \\\n",
       "Player                                                                       \n",
       "Precious Achiuwa  1140  100  102   9.236364   508  achiupr01   C  0.563636   \n",
       "Steven Adams      1133  214   98   8.595238   361  adamsst01   C  0.857143   \n",
       "Bam Adebayo       2598  184  208  20.386667  1529  adebaba01   C  1.173333   \n",
       "Ochai Agbaji      1209   43   99   7.915254   467  agbajoc01  SG  0.271186   \n",
       "Santi Aldama      1682   85  143   9.038961   696  aldamsa01  PF  0.584416   \n",
       "\n",
       "                  STL    TOV  TRB       TRPG   Tm   astToTO   eFG%    salary  \\\n",
       "Player                                                                         \n",
       "Precious Achiuwa   31   59.0  328   5.963636  TOR  0.847458  0.521   2840160   \n",
       "Steven Adams       36   79.0  485  11.547619  MEM  1.227848  0.597  17926829   \n",
       "Bam Adebayo        88  187.0  688   9.173333  MIA  1.283422  0.541  30351780   \n",
       "Ochai Agbaji       16   41.0  121   2.050847  UTA  1.634146  0.532   3918360   \n",
       "Santi Aldama       45   60.0  371   4.818182  MEM  1.616667  0.560   2094120   \n",
       "\n",
       "                  dollarPerMinute  dollarPerFG  dollarPerPoint  \n",
       "Player                                                          \n",
       "Precious Achiuwa          2491.37     14490.61         5590.87  \n",
       "Steven Adams             15822.44    114183.62        49658.81  \n",
       "Bam Adebayo              11682.75     50418.24        19850.74  \n",
       "Ochai Agbaji              3240.99     23747.64         8390.49  \n",
       "Santi Aldama              1245.02      8478.22         3008.79  "
      ]
     },
     "execution_count": 2,
     "metadata": {},
     "output_type": "execute_result"
    }
   ],
   "source": [
    "df.head()"
   ]
  },
  {
   "cell_type": "markdown",
   "metadata": {},
   "source": [
    "Above is a small sample of the data. Most of the columns are basic counting stats (points, rebounds, assists, blocks), others are tracking stats (games played, games started, minutes played), and a few are columns I created on my own for analysis (dollar per minute/fieldgoal/point, assist to turnover ratio)."
   ]
  },
  {
   "cell_type": "markdown",
   "metadata": {},
   "source": [
    "One of the first things we want to look at are the maximum and minimum salaries in the league, who they belong to and if their stats give any indication to their salaries initially."
   ]
  },
  {
   "cell_type": "markdown",
   "metadata": {},
   "source": [
    "For the 2022-23 season, Stephen Curry was the highest earner at 48 million, meanwhile the lowest earner was Stanley Umude at 58 thousand dollars. This is a shocking disparity, as 58 thousand seems almost unbelievably low for a professional athlete. However, Stanley only appeared in 1 game and played 2 minutes, not a bad compensation for only 2 minutes of work."
   ]
  },
  {
   "cell_type": "markdown",
   "metadata": {},
   "source": [
    "This disparity makes us wonder what the distribution of salary looks like. A histogram could help paint the picture."
   ]
  },
  {
   "cell_type": "markdown",
   "metadata": {},
   "source": [
    "This chart confirms our suspicion about the salary spread, it's heavily skewed to the right. It appears that roughly half the league makes less than 5 million dollars per year, then the stars and superstars make the numbers we see in headlines. A quick computation of the median, mean, and other basic stats should provide the numbers to confirm this."
   ]
  },
  {
   "cell_type": "markdown",
   "metadata": {},
   "source": [
    "The computations show that the mean salary is 9.48 million dollars, while the median salary is just 4.58 millions dollars. This is reflected by the histogram.  Clearly even among the professional athletes in the NBA, there are distinct tiers of players and salary. This makes us curious about how the \"other half\" lives. In this context, we'd like to have a deeper look at the half of the population that makes less than the median."
   ]
  },
  {
   "cell_type": "markdown",
   "metadata": {},
   "source": [
    "This shows us that the majority of those who make less than the median made roughly between 1.5 to 2.25 million this year. In fact, this represents roughly 20% of the players from the dataset.  While making 1.5-2.25 million per year clearly puts one in the 1% of earners, these players are hardly in the same league when it comes to salary compared to the stars. "
   ]
  },
  {
   "cell_type": "code",
   "execution_count": null,
   "metadata": {},
   "outputs": [
    {
     "data": {
      "image/png": "[encoded data removed]",
      "text/plain": [
       "<Figure size 640x480 with 1 Axes>"
      ]
     },
     "metadata": {},
     "output_type": "display_data"
    }
   ],
   "source": [
    "medianMore = df.query('salary > salary.median()')\n",
    "ax = sns.histplot(data = medianMore, x='salary', kde=True, bins = 20).set(title='Salary Distribution 2022-23')\n",
    "plt.ticklabel_format(style='plain')\n",
    "plt.show()"
   ]
  },
  {
   "cell_type": "markdown",
   "metadata": {},
   "source": [
    "Looking at the other half of the median, we can see that roughly 20% earn 8-12 million, starts to wittle down but then strangely dip back up around 35 million a year."
   ]
  },
  {
   "cell_type": "markdown",
   "metadata": {},
   "source": [
    "We can see that while most players in the league earned over 1 million per year, their lifestyles are most likely not all equal. Most players can be considered wealthy, but other players are earning what is being called \"generational wealth\", securing financial security for themselves and their family within just a single year."
   ]
  },
  {
   "cell_type": "markdown",
   "metadata": {},
   "source": [
    "Now that we've observed the distribution and sample statistics of the salary, we can take a look at other things related to it.  For example, what is the maximum salary earned for each age, and is there anything telling about it?"
   ]
  },
  {
   "cell_type": "code",
   "execution_count": null,
   "metadata": {},
   "outputs": [
    {
     "data": {
      "text/html": [
       "<div>\n",
       "<style scoped>\n",
       "    .dataframe tbody tr th:only-of-type {\n",
       "        vertical-align: middle;\n",
       "    }\n",
       "\n",
       "    .dataframe tbody tr th {\n",
       "        vertical-align: top;\n",
       "    }\n",
       "\n",
       "    .dataframe thead th {\n",
       "        text-align: right;\n",
       "    }\n",
       "</style>\n",
       "<table border=\"1\" class=\"dataframe\">\n",
       "  <thead>\n",
       "    <tr style=\"text-align: right;\">\n",
       "      <th>Player</th>\n",
       "      <th>Jabari Smith Jr.</th>\n",
       "      <th>Paolo Banchero</th>\n",
       "      <th>Anthony Edwards</th>\n",
       "      <th>Zion Williamson</th>\n",
       "      <th>Luka Dončić</th>\n",
       "      <th>Trae Young</th>\n",
       "      <th>Brandon Ingram</th>\n",
       "      <th>Ben Simmons</th>\n",
       "      <th>Zach LaVine</th>\n",
       "      <th>Giannis Antetokounmpo</th>\n",
       "      <th>Bradley Beal</th>\n",
       "      <th>Kyrie Irving</th>\n",
       "      <th>Kawhi Leonard</th>\n",
       "      <th>John Wall</th>\n",
       "      <th>Jimmy Butler</th>\n",
       "      <th>Stephen Curry</th>\n",
       "      <th>Mike Conley</th>\n",
       "      <th>Kyle Lowry</th>\n",
       "      <th>Chris Paul</th>\n",
       "      <th>LeBron James</th>\n",
       "      <th>Andre Iguodala</th>\n",
       "      <th>Udonis Haslem</th>\n",
       "    </tr>\n",
       "  </thead>\n",
       "  <tbody>\n",
       "    <tr>\n",
       "      <th>Age</th>\n",
       "      <td>19</td>\n",
       "      <td>20</td>\n",
       "      <td>21</td>\n",
       "      <td>22</td>\n",
       "      <td>23</td>\n",
       "      <td>24</td>\n",
       "      <td>25</td>\n",
       "      <td>26</td>\n",
       "      <td>27</td>\n",
       "      <td>28</td>\n",
       "      <td>29</td>\n",
       "      <td>30</td>\n",
       "      <td>31</td>\n",
       "      <td>32</td>\n",
       "      <td>33</td>\n",
       "      <td>34</td>\n",
       "      <td>35</td>\n",
       "      <td>36</td>\n",
       "      <td>37</td>\n",
       "      <td>38</td>\n",
       "      <td>39</td>\n",
       "      <td>42</td>\n",
       "    </tr>\n",
       "    <tr>\n",
       "      <th>salary</th>\n",
       "      <td>8,882,640</td>\n",
       "      <td>11,055,120</td>\n",
       "      <td>10,733,400</td>\n",
       "      <td>13,534,817</td>\n",
       "      <td>37,096,500</td>\n",
       "      <td>37,096,500</td>\n",
       "      <td>31,650,600</td>\n",
       "      <td>35,448,672</td>\n",
       "      <td>37,096,500</td>\n",
       "      <td>42,492,492</td>\n",
       "      <td>43,279,250</td>\n",
       "      <td>38,917,057</td>\n",
       "      <td>42,492,492</td>\n",
       "      <td>47,345,760</td>\n",
       "      <td>37,653,300</td>\n",
       "      <td>48,070,014</td>\n",
       "      <td>22,680,000</td>\n",
       "      <td>28,333,334</td>\n",
       "      <td>28,400,000</td>\n",
       "      <td>44,474,988</td>\n",
       "      <td>1,836,090</td>\n",
       "      <td>1,836,090</td>\n",
       "    </tr>\n",
       "    <tr>\n",
       "      <th>Tm</th>\n",
       "      <td>HOU</td>\n",
       "      <td>ORL</td>\n",
       "      <td>MIN</td>\n",
       "      <td>NOP</td>\n",
       "      <td>DAL</td>\n",
       "      <td>ATL</td>\n",
       "      <td>NOP</td>\n",
       "      <td>BRK</td>\n",
       "      <td>CHI</td>\n",
       "      <td>MIL</td>\n",
       "      <td>WAS</td>\n",
       "      <td>TOT</td>\n",
       "      <td>LAC</td>\n",
       "      <td>LAC</td>\n",
       "      <td>MIA</td>\n",
       "      <td>GSW</td>\n",
       "      <td>TOT</td>\n",
       "      <td>MIA</td>\n",
       "      <td>PHO</td>\n",
       "      <td>LAL</td>\n",
       "      <td>GSW</td>\n",
       "      <td>MIA</td>\n",
       "    </tr>\n",
       "  </tbody>\n",
       "</table>\n",
       "</div>"
      ],
      "text/plain": [
       "Player Jabari Smith Jr. Paolo Banchero Anthony Edwards Zion Williamson  \\\n",
       "Age                  19             20              21              22   \n",
       "salary        8,882,640     11,055,120      10,733,400      13,534,817   \n",
       "Tm                  HOU            ORL             MIN             NOP   \n",
       "\n",
       "Player Luka Dončić  Trae Young Brandon Ingram Ben Simmons Zach LaVine  \\\n",
       "Age             23          24             25          26          27   \n",
       "salary  37,096,500  37,096,500     31,650,600  35,448,672  37,096,500   \n",
       "Tm             DAL         ATL            NOP         BRK         CHI   \n",
       "\n",
       "Player Giannis Antetokounmpo Bradley Beal Kyrie Irving Kawhi Leonard  \\\n",
       "Age                       28           29           30            31   \n",
       "salary            42,492,492   43,279,250   38,917,057    42,492,492   \n",
       "Tm                       MIL          WAS          TOT           LAC   \n",
       "\n",
       "Player   John Wall Jimmy Butler Stephen Curry Mike Conley  Kyle Lowry  \\\n",
       "Age             32           33            34          35          36   \n",
       "salary  47,345,760   37,653,300    48,070,014  22,680,000  28,333,334   \n",
       "Tm             LAC          MIA           GSW         TOT         MIA   \n",
       "\n",
       "Player  Chris Paul LeBron James Andre Iguodala Udonis Haslem  \n",
       "Age             37           38             39            42  \n",
       "salary  28,400,000   44,474,988      1,836,090     1,836,090  \n",
       "Tm             PHO          LAL            GSW           MIA  "
      ]
     },
     "execution_count": 8,
     "metadata": {},
     "output_type": "execute_result"
    }
   ],
   "source": [
    "max_salary_indices = df.groupby('Age')['salary'].idxmax()\n",
    "result = df.loc[max_salary_indices, ['Age', 'salary', 'Tm']]\n",
    "\n",
    "result['salary'] = result['salary'].apply(lambda x:'{:,}'.format(x))\n",
    "\n",
    "result.T"
   ]
  },
  {
   "cell_type": "code",
   "execution_count": null,
   "metadata": {},
   "outputs": [
    {
     "data": {
      "text/html": [
       "<div>\n",
       "<style scoped>\n",
       "    .dataframe tbody tr th:only-of-type {\n",
       "        vertical-align: middle;\n",
       "    }\n",
       "\n",
       "    .dataframe tbody tr th {\n",
       "        vertical-align: top;\n",
       "    }\n",
       "\n",
       "    .dataframe thead th {\n",
       "        text-align: right;\n",
       "    }\n",
       "</style>\n",
       "<table border=\"1\" class=\"dataframe\">\n",
       "  <thead>\n",
       "    <tr style=\"text-align: right;\">\n",
       "      <th>Player</th>\n",
       "      <th>Max Christie</th>\n",
       "      <th>Jaden Hardy</th>\n",
       "      <th>Brandon Boston Jr.</th>\n",
       "      <th>Christian Koloko</th>\n",
       "      <th>Stanley Umude</th>\n",
       "      <th>Jordan Goodwin</th>\n",
       "      <th>Anthony Lamb</th>\n",
       "      <th>Alize Johnson</th>\n",
       "      <th>Xavier Cooks</th>\n",
       "      <th>Ish Wainright</th>\n",
       "      <th>Javonte Green</th>\n",
       "      <th>Meyers Leonard</th>\n",
       "      <th>Michael Carter-Williams</th>\n",
       "      <th>Matthew Dellavedova</th>\n",
       "      <th>Blake Griffin</th>\n",
       "      <th>Robin Lopez</th>\n",
       "      <th>James Johnson</th>\n",
       "      <th>Wesley Matthews</th>\n",
       "      <th>Taj Gibson</th>\n",
       "      <th>LeBron James</th>\n",
       "      <th>Andre Iguodala</th>\n",
       "      <th>Udonis Haslem</th>\n",
       "    </tr>\n",
       "  </thead>\n",
       "  <tbody>\n",
       "    <tr>\n",
       "      <th>Age</th>\n",
       "      <td>19</td>\n",
       "      <td>20</td>\n",
       "      <td>21</td>\n",
       "      <td>22</td>\n",
       "      <td>23</td>\n",
       "      <td>24</td>\n",
       "      <td>25</td>\n",
       "      <td>26</td>\n",
       "      <td>27</td>\n",
       "      <td>28</td>\n",
       "      <td>29</td>\n",
       "      <td>30</td>\n",
       "      <td>31</td>\n",
       "      <td>32</td>\n",
       "      <td>33</td>\n",
       "      <td>34</td>\n",
       "      <td>35</td>\n",
       "      <td>36</td>\n",
       "      <td>37</td>\n",
       "      <td>38</td>\n",
       "      <td>39</td>\n",
       "      <td>42</td>\n",
       "    </tr>\n",
       "    <tr>\n",
       "      <th>salary</th>\n",
       "      <td>1,017,781</td>\n",
       "      <td>1,017,781</td>\n",
       "      <td>1,563,518</td>\n",
       "      <td>1,500,000</td>\n",
       "      <td>58,493</td>\n",
       "      <td>900,000</td>\n",
       "      <td>253,254</td>\n",
       "      <td>192,293</td>\n",
       "      <td>140,384</td>\n",
       "      <td>474,851</td>\n",
       "      <td>1,815,677</td>\n",
       "      <td>105,522</td>\n",
       "      <td>652,829</td>\n",
       "      <td>1,836,090</td>\n",
       "      <td>1,836,090</td>\n",
       "      <td>1,836,090</td>\n",
       "      <td>2,427,016</td>\n",
       "      <td>1,836,090</td>\n",
       "      <td>1,836,090</td>\n",
       "      <td>44,474,988</td>\n",
       "      <td>1,836,090</td>\n",
       "      <td>1,836,090</td>\n",
       "    </tr>\n",
       "    <tr>\n",
       "      <th>Tm</th>\n",
       "      <td>LAL</td>\n",
       "      <td>DAL</td>\n",
       "      <td>LAC</td>\n",
       "      <td>TOR</td>\n",
       "      <td>DET</td>\n",
       "      <td>WAS</td>\n",
       "      <td>GSW</td>\n",
       "      <td>SAS</td>\n",
       "      <td>WAS</td>\n",
       "      <td>PHO</td>\n",
       "      <td>CHI</td>\n",
       "      <td>MIL</td>\n",
       "      <td>ORL</td>\n",
       "      <td>SAC</td>\n",
       "      <td>BOS</td>\n",
       "      <td>CLE</td>\n",
       "      <td>IND</td>\n",
       "      <td>MIL</td>\n",
       "      <td>WAS</td>\n",
       "      <td>LAL</td>\n",
       "      <td>GSW</td>\n",
       "      <td>MIA</td>\n",
       "    </tr>\n",
       "  </tbody>\n",
       "</table>\n",
       "</div>"
      ],
      "text/plain": [
       "Player Max Christie Jaden Hardy Brandon Boston Jr. Christian Koloko  \\\n",
       "Age              19          20                 21               22   \n",
       "salary    1,017,781   1,017,781          1,563,518        1,500,000   \n",
       "Tm              LAL         DAL                LAC              TOR   \n",
       "\n",
       "Player Stanley Umude Jordan Goodwin Anthony Lamb Alize Johnson Xavier Cooks  \\\n",
       "Age               23             24           25            26           27   \n",
       "salary        58,493        900,000      253,254       192,293      140,384   \n",
       "Tm               DET            WAS          GSW           SAS          WAS   \n",
       "\n",
       "Player Ish Wainright Javonte Green Meyers Leonard Michael Carter-Williams  \\\n",
       "Age               28            29             30                      31   \n",
       "salary       474,851     1,815,677        105,522                 652,829   \n",
       "Tm               PHO           CHI            MIL                     ORL   \n",
       "\n",
       "Player Matthew Dellavedova Blake Griffin Robin Lopez James Johnson  \\\n",
       "Age                     32            33          34            35   \n",
       "salary           1,836,090     1,836,090   1,836,090     2,427,016   \n",
       "Tm                     SAC           BOS         CLE           IND   \n",
       "\n",
       "Player Wesley Matthews Taj Gibson LeBron James Andre Iguodala Udonis Haslem  \n",
       "Age                 36         37           38             39            42  \n",
       "salary       1,836,090  1,836,090   44,474,988      1,836,090     1,836,090  \n",
       "Tm                 MIL        WAS          LAL            GSW           MIA  "
      ]
     },
     "execution_count": 9,
     "metadata": {},
     "output_type": "execute_result"
    }
   ],
   "source": [
    "min_salary_indices = df.groupby('Age')['salary'].idxmin()\n",
    "result = df.loc[min_salary_indices, ['Age', 'salary','Tm']]\n",
    "\n",
    "result['salary'] = result['salary'].apply(lambda x:'{:,}'.format(x))\n",
    "\n",
    "result.T"
   ]
  },
  {
   "cell_type": "code",
   "execution_count": null,
   "metadata": {},
   "outputs": [],
   "source": []
  },
  {
   "cell_type": "markdown",
   "metadata": {},
   "source": [
    "its interesting to see that X about age."
   ]
  },
  {
   "cell_type": "markdown",
   "metadata": {},
   "source": [
    "Another question we had was if all positions made roughly the same, or if there's a distinct ranking."
   ]
  },
  {
   "cell_type": "code",
   "execution_count": null,
   "metadata": {},
   "outputs": [
    {
     "data": {
      "text/html": [
       "<div style=\"display:flex\"><div style=\"margin-right: 2em\"><table border=\"1\" class=\"dataframe\">\n",
       "  <thead>\n",
       "    <tr style=\"text-align: right;\">\n",
       "      <th></th>\n",
       "      <th>salary</th>\n",
       "    </tr>\n",
       "    <tr>\n",
       "      <th>Pos</th>\n",
       "      <th></th>\n",
       "    </tr>\n",
       "  </thead>\n",
       "  <tbody>\n",
       "    <tr>\n",
       "      <th>PG</th>\n",
       "      <td>12183395.0</td>\n",
       "    </tr>\n",
       "    <tr>\n",
       "      <th>PF</th>\n",
       "      <td>9403577.0</td>\n",
       "    </tr>\n",
       "    <tr>\n",
       "      <th>C</th>\n",
       "      <td>9338676.0</td>\n",
       "    </tr>\n",
       "    <tr>\n",
       "      <th>SG</th>\n",
       "      <td>8495827.0</td>\n",
       "    </tr>\n",
       "    <tr>\n",
       "      <th>SF</th>\n",
       "      <td>8278663.0</td>\n",
       "    </tr>\n",
       "  </tbody>\n",
       "</table></div><div style=\"margin-right: 2em\"><table border=\"1\" class=\"dataframe\">\n",
       "  <thead>\n",
       "    <tr style=\"text-align: right;\">\n",
       "      <th></th>\n",
       "      <th>salary</th>\n",
       "    </tr>\n",
       "    <tr>\n",
       "      <th>Pos</th>\n",
       "      <th></th>\n",
       "    </tr>\n",
       "  </thead>\n",
       "  <tbody>\n",
       "    <tr>\n",
       "      <th>PG</th>\n",
       "      <td>5853659.0</td>\n",
       "    </tr>\n",
       "    <tr>\n",
       "      <th>PF</th>\n",
       "      <td>4866840.0</td>\n",
       "    </tr>\n",
       "    <tr>\n",
       "      <th>SG</th>\n",
       "      <td>4500000.0</td>\n",
       "    </tr>\n",
       "    <tr>\n",
       "      <th>C</th>\n",
       "      <td>4124280.0</td>\n",
       "    </tr>\n",
       "    <tr>\n",
       "      <th>SF</th>\n",
       "      <td>3936960.0</td>\n",
       "    </tr>\n",
       "  </tbody>\n",
       "</table></div></div>"
      ],
      "text/plain": [
       "<IPython.core.display.HTML object>"
      ]
     },
     "metadata": {},
     "output_type": "display_data"
    }
   ],
   "source": [
    "positionMean = df[['salary', 'Pos']].groupby(['Pos']).mean().sort_values(by='salary', ascending=False).round() \n",
    "positionMedian = df[['salary', 'Pos']].groupby(['Pos']).median().sort_values(by='salary', ascending=False).round()\n",
    "\n",
    "side_by_side(positionMean, positionMedian)"
   ]
  },
  {
   "cell_type": "markdown",
   "metadata": {},
   "source": [
    "Another story of mean vs median.  The median salaries are less than half of the mean salaries, once again showing the superstar contracts skewing the data.  Point Guards and Power Forwards secure the top 2 for earning, and then it shuffles around for the bottom 3 positions.  "
   ]
  },
  {
   "cell_type": "markdown",
   "metadata": {},
   "source": [
    "Up until this point there has been plenty of mention of superstars and their salaries pulling the mean up. But in the statistical sense, that sounds like outliers. We can compute and search for outliers now to see if these superstar salaries are within the expected range or if they are indeed anomalies."
   ]
  },
  {
   "cell_type": "code",
   "execution_count": null,
   "metadata": {},
   "outputs": [
    {
     "data": {
      "text/plain": [
       "Player\n",
       "Stephen Curry            48070014\n",
       "Russell Westbrook        47559433\n",
       "John Wall                47345760\n",
       "LeBron James             44474988\n",
       "Kevin Durant             44119845\n",
       "Bradley Beal             43279250\n",
       "Giannis Antetokounmpo    42492492\n",
       "Paul George              42492492\n",
       "Kawhi Leonard            42492492\n",
       "Damian Lillard           42492492\n",
       "Name: salary, dtype: int64"
      ]
     },
     "execution_count": 11,
     "metadata": {},
     "output_type": "execute_result"
    }
   ],
   "source": [
    "outliers = df[df['salary'] > df['salary'].mean() + 3 * df['salary'].std()]\n",
    "outliers['salary'].sort_values(ascending=False)"
   ]
  },
  {
   "cell_type": "markdown",
   "metadata": {},
   "source": [
    "Our computation shows that there's not just 1, but 10 outliers total, all with values greater than 40 million dollars."
   ]
  },
  {
   "cell_type": "code",
   "execution_count": null,
   "metadata": {},
   "outputs": [
    {
     "data": {
      "text/html": [
       "<div>\n",
       "<style scoped>\n",
       "    .dataframe tbody tr th:only-of-type {\n",
       "        vertical-align: middle;\n",
       "    }\n",
       "\n",
       "    .dataframe tbody tr th {\n",
       "        vertical-align: top;\n",
       "    }\n",
       "\n",
       "    .dataframe thead th {\n",
       "        text-align: right;\n",
       "    }\n",
       "</style>\n",
       "<table border=\"1\" class=\"dataframe\">\n",
       "  <thead>\n",
       "    <tr style=\"text-align: right;\">\n",
       "      <th></th>\n",
       "      <th>2P</th>\n",
       "      <th>2P%</th>\n",
       "      <th>2PA</th>\n",
       "      <th>3P</th>\n",
       "      <th>3P%</th>\n",
       "      <th>3PA</th>\n",
       "      <th>APG</th>\n",
       "      <th>AST</th>\n",
       "      <th>Age</th>\n",
       "      <th>BLK</th>\n",
       "      <th>BPG</th>\n",
       "      <th>DRB</th>\n",
       "      <th>FG</th>\n",
       "      <th>FG%</th>\n",
       "      <th>FGA</th>\n",
       "      <th>FT</th>\n",
       "      <th>FT%</th>\n",
       "      <th>FTA</th>\n",
       "      <th>G</th>\n",
       "      <th>GS</th>\n",
       "      <th>MP</th>\n",
       "      <th>ORB</th>\n",
       "      <th>PF</th>\n",
       "      <th>PPG</th>\n",
       "      <th>PTS</th>\n",
       "      <th>PlayerID</th>\n",
       "      <th>Pos</th>\n",
       "      <th>SPG</th>\n",
       "      <th>STL</th>\n",
       "      <th>TOV</th>\n",
       "      <th>TRB</th>\n",
       "      <th>TRPG</th>\n",
       "      <th>Tm</th>\n",
       "      <th>astToTO</th>\n",
       "      <th>eFG%</th>\n",
       "      <th>salary</th>\n",
       "      <th>dollarPerMinute</th>\n",
       "      <th>dollarPerFG</th>\n",
       "      <th>dollarPerPoint</th>\n",
       "    </tr>\n",
       "    <tr>\n",
       "      <th>Player</th>\n",
       "      <th></th>\n",
       "      <th></th>\n",
       "      <th></th>\n",
       "      <th></th>\n",
       "      <th></th>\n",
       "      <th></th>\n",
       "      <th></th>\n",
       "      <th></th>\n",
       "      <th></th>\n",
       "      <th></th>\n",
       "      <th></th>\n",
       "      <th></th>\n",
       "      <th></th>\n",
       "      <th></th>\n",
       "      <th></th>\n",
       "      <th></th>\n",
       "      <th></th>\n",
       "      <th></th>\n",
       "      <th></th>\n",
       "      <th></th>\n",
       "      <th></th>\n",
       "      <th></th>\n",
       "      <th></th>\n",
       "      <th></th>\n",
       "      <th></th>\n",
       "      <th></th>\n",
       "      <th></th>\n",
       "      <th></th>\n",
       "      <th></th>\n",
       "      <th></th>\n",
       "      <th></th>\n",
       "      <th></th>\n",
       "      <th></th>\n",
       "      <th></th>\n",
       "      <th></th>\n",
       "      <th></th>\n",
       "      <th></th>\n",
       "      <th></th>\n",
       "      <th></th>\n",
       "    </tr>\n",
       "  </thead>\n",
       "  <tbody>\n",
       "    <tr>\n",
       "      <th>Giannis Antetokounmpo</th>\n",
       "      <td>660</td>\n",
       "      <td>0.596</td>\n",
       "      <td>1107</td>\n",
       "      <td>47</td>\n",
       "      <td>0.275</td>\n",
       "      <td>171</td>\n",
       "      <td>5.698413</td>\n",
       "      <td>359</td>\n",
       "      <td>28</td>\n",
       "      <td>51</td>\n",
       "      <td>0.809524</td>\n",
       "      <td>605</td>\n",
       "      <td>707</td>\n",
       "      <td>0.553</td>\n",
       "      <td>1278</td>\n",
       "      <td>498</td>\n",
       "      <td>0.645</td>\n",
       "      <td>772</td>\n",
       "      <td>63</td>\n",
       "      <td>63</td>\n",
       "      <td>2024</td>\n",
       "      <td>137</td>\n",
       "      <td>197</td>\n",
       "      <td>31.095238</td>\n",
       "      <td>1959</td>\n",
       "      <td>antetgi01</td>\n",
       "      <td>PF</td>\n",
       "      <td>0.825397</td>\n",
       "      <td>52</td>\n",
       "      <td>246.0</td>\n",
       "      <td>742</td>\n",
       "      <td>11.777778</td>\n",
       "      <td>MIL</td>\n",
       "      <td>1.459350</td>\n",
       "      <td>0.572</td>\n",
       "      <td>42492492</td>\n",
       "      <td>20994.31</td>\n",
       "      <td>60102.53</td>\n",
       "      <td>21690.91</td>\n",
       "    </tr>\n",
       "    <tr>\n",
       "      <th>Bradley Beal</th>\n",
       "      <td>364</td>\n",
       "      <td>0.552</td>\n",
       "      <td>659</td>\n",
       "      <td>80</td>\n",
       "      <td>0.365</td>\n",
       "      <td>219</td>\n",
       "      <td>5.420000</td>\n",
       "      <td>271</td>\n",
       "      <td>29</td>\n",
       "      <td>33</td>\n",
       "      <td>0.660000</td>\n",
       "      <td>155</td>\n",
       "      <td>444</td>\n",
       "      <td>0.506</td>\n",
       "      <td>878</td>\n",
       "      <td>192</td>\n",
       "      <td>0.842</td>\n",
       "      <td>228</td>\n",
       "      <td>50</td>\n",
       "      <td>50</td>\n",
       "      <td>1673</td>\n",
       "      <td>41</td>\n",
       "      <td>107</td>\n",
       "      <td>23.200000</td>\n",
       "      <td>1160</td>\n",
       "      <td>bealbr01</td>\n",
       "      <td>SG</td>\n",
       "      <td>0.900000</td>\n",
       "      <td>45</td>\n",
       "      <td>145.0</td>\n",
       "      <td>196</td>\n",
       "      <td>3.920000</td>\n",
       "      <td>WAS</td>\n",
       "      <td>1.868966</td>\n",
       "      <td>0.551</td>\n",
       "      <td>43279250</td>\n",
       "      <td>25869.25</td>\n",
       "      <td>97475.79</td>\n",
       "      <td>37309.70</td>\n",
       "    </tr>\n",
       "    <tr>\n",
       "      <th>Stephen Curry</th>\n",
       "      <td>286</td>\n",
       "      <td>0.579</td>\n",
       "      <td>494</td>\n",
       "      <td>273</td>\n",
       "      <td>0.427</td>\n",
       "      <td>639</td>\n",
       "      <td>6.285714</td>\n",
       "      <td>352</td>\n",
       "      <td>34</td>\n",
       "      <td>20</td>\n",
       "      <td>0.357143</td>\n",
       "      <td>302</td>\n",
       "      <td>559</td>\n",
       "      <td>0.493</td>\n",
       "      <td>1133</td>\n",
       "      <td>257</td>\n",
       "      <td>0.915</td>\n",
       "      <td>281</td>\n",
       "      <td>56</td>\n",
       "      <td>56</td>\n",
       "      <td>1941</td>\n",
       "      <td>39</td>\n",
       "      <td>117</td>\n",
       "      <td>29.428571</td>\n",
       "      <td>1648</td>\n",
       "      <td>curryst01</td>\n",
       "      <td>PG</td>\n",
       "      <td>0.928571</td>\n",
       "      <td>52</td>\n",
       "      <td>179.0</td>\n",
       "      <td>341</td>\n",
       "      <td>6.089286</td>\n",
       "      <td>GSW</td>\n",
       "      <td>1.966480</td>\n",
       "      <td>0.614</td>\n",
       "      <td>48070014</td>\n",
       "      <td>24765.59</td>\n",
       "      <td>85992.87</td>\n",
       "      <td>29168.70</td>\n",
       "    </tr>\n",
       "    <tr>\n",
       "      <th>Kevin Durant</th>\n",
       "      <td>390</td>\n",
       "      <td>0.617</td>\n",
       "      <td>632</td>\n",
       "      <td>93</td>\n",
       "      <td>0.404</td>\n",
       "      <td>230</td>\n",
       "      <td>5.000000</td>\n",
       "      <td>235</td>\n",
       "      <td>34</td>\n",
       "      <td>67</td>\n",
       "      <td>1.425532</td>\n",
       "      <td>296</td>\n",
       "      <td>483</td>\n",
       "      <td>0.560</td>\n",
       "      <td>862</td>\n",
       "      <td>307</td>\n",
       "      <td>0.919</td>\n",
       "      <td>334</td>\n",
       "      <td>47</td>\n",
       "      <td>47</td>\n",
       "      <td>1672</td>\n",
       "      <td>17</td>\n",
       "      <td>99</td>\n",
       "      <td>29.063830</td>\n",
       "      <td>1366</td>\n",
       "      <td>duranke01</td>\n",
       "      <td>PF</td>\n",
       "      <td>0.723404</td>\n",
       "      <td>34</td>\n",
       "      <td>156.0</td>\n",
       "      <td>313</td>\n",
       "      <td>6.659574</td>\n",
       "      <td>TOT</td>\n",
       "      <td>1.506410</td>\n",
       "      <td>0.614</td>\n",
       "      <td>44119845</td>\n",
       "      <td>26387.47</td>\n",
       "      <td>91345.43</td>\n",
       "      <td>32298.57</td>\n",
       "    </tr>\n",
       "    <tr>\n",
       "      <th>Paul George</th>\n",
       "      <td>301</td>\n",
       "      <td>0.521</td>\n",
       "      <td>578</td>\n",
       "      <td>158</td>\n",
       "      <td>0.371</td>\n",
       "      <td>426</td>\n",
       "      <td>5.142857</td>\n",
       "      <td>288</td>\n",
       "      <td>32</td>\n",
       "      <td>20</td>\n",
       "      <td>0.357143</td>\n",
       "      <td>297</td>\n",
       "      <td>459</td>\n",
       "      <td>0.457</td>\n",
       "      <td>1004</td>\n",
       "      <td>256</td>\n",
       "      <td>0.871</td>\n",
       "      <td>294</td>\n",
       "      <td>56</td>\n",
       "      <td>56</td>\n",
       "      <td>1939</td>\n",
       "      <td>45</td>\n",
       "      <td>159</td>\n",
       "      <td>23.785714</td>\n",
       "      <td>1332</td>\n",
       "      <td>georgpa01</td>\n",
       "      <td>SG</td>\n",
       "      <td>1.482143</td>\n",
       "      <td>83</td>\n",
       "      <td>176.0</td>\n",
       "      <td>342</td>\n",
       "      <td>6.107143</td>\n",
       "      <td>LAC</td>\n",
       "      <td>1.636364</td>\n",
       "      <td>0.536</td>\n",
       "      <td>42492492</td>\n",
       "      <td>21914.64</td>\n",
       "      <td>92576.24</td>\n",
       "      <td>31901.27</td>\n",
       "    </tr>\n",
       "    <tr>\n",
       "      <th>LeBron James</th>\n",
       "      <td>488</td>\n",
       "      <td>0.580</td>\n",
       "      <td>842</td>\n",
       "      <td>121</td>\n",
       "      <td>0.321</td>\n",
       "      <td>377</td>\n",
       "      <td>6.818182</td>\n",
       "      <td>375</td>\n",
       "      <td>38</td>\n",
       "      <td>32</td>\n",
       "      <td>0.581818</td>\n",
       "      <td>392</td>\n",
       "      <td>609</td>\n",
       "      <td>0.500</td>\n",
       "      <td>1219</td>\n",
       "      <td>251</td>\n",
       "      <td>0.768</td>\n",
       "      <td>327</td>\n",
       "      <td>55</td>\n",
       "      <td>54</td>\n",
       "      <td>1954</td>\n",
       "      <td>65</td>\n",
       "      <td>88</td>\n",
       "      <td>28.909091</td>\n",
       "      <td>1590</td>\n",
       "      <td>jamesle01</td>\n",
       "      <td>PF</td>\n",
       "      <td>0.909091</td>\n",
       "      <td>50</td>\n",
       "      <td>178.0</td>\n",
       "      <td>457</td>\n",
       "      <td>8.309091</td>\n",
       "      <td>LAL</td>\n",
       "      <td>2.106742</td>\n",
       "      <td>0.549</td>\n",
       "      <td>44474988</td>\n",
       "      <td>22761.00</td>\n",
       "      <td>73029.54</td>\n",
       "      <td>27971.69</td>\n",
       "    </tr>\n",
       "    <tr>\n",
       "      <th>Kawhi Leonard</th>\n",
       "      <td>342</td>\n",
       "      <td>0.551</td>\n",
       "      <td>621</td>\n",
       "      <td>104</td>\n",
       "      <td>0.416</td>\n",
       "      <td>250</td>\n",
       "      <td>3.923077</td>\n",
       "      <td>204</td>\n",
       "      <td>31</td>\n",
       "      <td>28</td>\n",
       "      <td>0.538462</td>\n",
       "      <td>281</td>\n",
       "      <td>446</td>\n",
       "      <td>0.512</td>\n",
       "      <td>871</td>\n",
       "      <td>243</td>\n",
       "      <td>0.871</td>\n",
       "      <td>279</td>\n",
       "      <td>52</td>\n",
       "      <td>50</td>\n",
       "      <td>1748</td>\n",
       "      <td>57</td>\n",
       "      <td>84</td>\n",
       "      <td>23.826923</td>\n",
       "      <td>1239</td>\n",
       "      <td>leonaka01</td>\n",
       "      <td>SF</td>\n",
       "      <td>1.384615</td>\n",
       "      <td>72</td>\n",
       "      <td>88.0</td>\n",
       "      <td>338</td>\n",
       "      <td>6.500000</td>\n",
       "      <td>LAC</td>\n",
       "      <td>2.318182</td>\n",
       "      <td>0.572</td>\n",
       "      <td>42492492</td>\n",
       "      <td>24309.21</td>\n",
       "      <td>95274.65</td>\n",
       "      <td>34295.80</td>\n",
       "    </tr>\n",
       "    <tr>\n",
       "      <th>Damian Lillard</th>\n",
       "      <td>312</td>\n",
       "      <td>0.574</td>\n",
       "      <td>544</td>\n",
       "      <td>244</td>\n",
       "      <td>0.371</td>\n",
       "      <td>658</td>\n",
       "      <td>7.327586</td>\n",
       "      <td>425</td>\n",
       "      <td>32</td>\n",
       "      <td>18</td>\n",
       "      <td>0.310345</td>\n",
       "      <td>233</td>\n",
       "      <td>556</td>\n",
       "      <td>0.463</td>\n",
       "      <td>1202</td>\n",
       "      <td>510</td>\n",
       "      <td>0.914</td>\n",
       "      <td>558</td>\n",
       "      <td>58</td>\n",
       "      <td>58</td>\n",
       "      <td>2107</td>\n",
       "      <td>44</td>\n",
       "      <td>109</td>\n",
       "      <td>32.172414</td>\n",
       "      <td>1866</td>\n",
       "      <td>lillada01</td>\n",
       "      <td>PG</td>\n",
       "      <td>0.862069</td>\n",
       "      <td>50</td>\n",
       "      <td>191.0</td>\n",
       "      <td>277</td>\n",
       "      <td>4.775862</td>\n",
       "      <td>POR</td>\n",
       "      <td>2.225131</td>\n",
       "      <td>0.564</td>\n",
       "      <td>42492492</td>\n",
       "      <td>20167.30</td>\n",
       "      <td>76425.35</td>\n",
       "      <td>22771.97</td>\n",
       "    </tr>\n",
       "    <tr>\n",
       "      <th>John Wall</th>\n",
       "      <td>105</td>\n",
       "      <td>0.459</td>\n",
       "      <td>229</td>\n",
       "      <td>33</td>\n",
       "      <td>0.303</td>\n",
       "      <td>109</td>\n",
       "      <td>5.235294</td>\n",
       "      <td>178</td>\n",
       "      <td>32</td>\n",
       "      <td>12</td>\n",
       "      <td>0.352941</td>\n",
       "      <td>78</td>\n",
       "      <td>138</td>\n",
       "      <td>0.408</td>\n",
       "      <td>338</td>\n",
       "      <td>77</td>\n",
       "      <td>0.681</td>\n",
       "      <td>113</td>\n",
       "      <td>34</td>\n",
       "      <td>3</td>\n",
       "      <td>755</td>\n",
       "      <td>14</td>\n",
       "      <td>59</td>\n",
       "      <td>11.352941</td>\n",
       "      <td>386</td>\n",
       "      <td>walljo01</td>\n",
       "      <td>PG</td>\n",
       "      <td>0.794118</td>\n",
       "      <td>27</td>\n",
       "      <td>80.0</td>\n",
       "      <td>92</td>\n",
       "      <td>2.705882</td>\n",
       "      <td>LAC</td>\n",
       "      <td>2.225000</td>\n",
       "      <td>0.457</td>\n",
       "      <td>47345760</td>\n",
       "      <td>62709.62</td>\n",
       "      <td>343085.22</td>\n",
       "      <td>122657.41</td>\n",
       "    </tr>\n",
       "    <tr>\n",
       "      <th>Russell Westbrook</th>\n",
       "      <td>343</td>\n",
       "      <td>0.487</td>\n",
       "      <td>705</td>\n",
       "      <td>89</td>\n",
       "      <td>0.311</td>\n",
       "      <td>286</td>\n",
       "      <td>7.547945</td>\n",
       "      <td>551</td>\n",
       "      <td>34</td>\n",
       "      <td>33</td>\n",
       "      <td>0.452055</td>\n",
       "      <td>334</td>\n",
       "      <td>432</td>\n",
       "      <td>0.436</td>\n",
       "      <td>991</td>\n",
       "      <td>206</td>\n",
       "      <td>0.656</td>\n",
       "      <td>314</td>\n",
       "      <td>73</td>\n",
       "      <td>24</td>\n",
       "      <td>2126</td>\n",
       "      <td>89</td>\n",
       "      <td>162</td>\n",
       "      <td>15.876712</td>\n",
       "      <td>1159</td>\n",
       "      <td>westbru01</td>\n",
       "      <td>PG</td>\n",
       "      <td>1.041096</td>\n",
       "      <td>76</td>\n",
       "      <td>255.0</td>\n",
       "      <td>423</td>\n",
       "      <td>5.794521</td>\n",
       "      <td>TOT</td>\n",
       "      <td>2.160784</td>\n",
       "      <td>0.481</td>\n",
       "      <td>47559433</td>\n",
       "      <td>22370.38</td>\n",
       "      <td>110091.28</td>\n",
       "      <td>41034.89</td>\n",
       "    </tr>\n",
       "  </tbody>\n",
       "</table>\n",
       "</div>"
      ],
      "text/plain": [
       "                        2P    2P%   2PA   3P    3P%  3PA       APG  AST  Age  \\\n",
       "Player                                                                         \n",
       "Giannis Antetokounmpo  660  0.596  1107   47  0.275  171  5.698413  359   28   \n",
       "Bradley Beal           364  0.552   659   80  0.365  219  5.420000  271   29   \n",
       "Stephen Curry          286  0.579   494  273  0.427  639  6.285714  352   34   \n",
       "Kevin Durant           390  0.617   632   93  0.404  230  5.000000  235   34   \n",
       "Paul George            301  0.521   578  158  0.371  426  5.142857  288   32   \n",
       "LeBron James           488  0.580   842  121  0.321  377  6.818182  375   38   \n",
       "Kawhi Leonard          342  0.551   621  104  0.416  250  3.923077  204   31   \n",
       "Damian Lillard         312  0.574   544  244  0.371  658  7.327586  425   32   \n",
       "John Wall              105  0.459   229   33  0.303  109  5.235294  178   32   \n",
       "Russell Westbrook      343  0.487   705   89  0.311  286  7.547945  551   34   \n",
       "\n",
       "                       BLK       BPG  DRB   FG    FG%   FGA   FT    FT%  FTA  \\\n",
       "Player                                                                         \n",
       "Giannis Antetokounmpo   51  0.809524  605  707  0.553  1278  498  0.645  772   \n",
       "Bradley Beal            33  0.660000  155  444  0.506   878  192  0.842  228   \n",
       "Stephen Curry           20  0.357143  302  559  0.493  1133  257  0.915  281   \n",
       "Kevin Durant            67  1.425532  296  483  0.560   862  307  0.919  334   \n",
       "Paul George             20  0.357143  297  459  0.457  1004  256  0.871  294   \n",
       "LeBron James            32  0.581818  392  609  0.500  1219  251  0.768  327   \n",
       "Kawhi Leonard           28  0.538462  281  446  0.512   871  243  0.871  279   \n",
       "Damian Lillard          18  0.310345  233  556  0.463  1202  510  0.914  558   \n",
       "John Wall               12  0.352941   78  138  0.408   338   77  0.681  113   \n",
       "Russell Westbrook       33  0.452055  334  432  0.436   991  206  0.656  314   \n",
       "\n",
       "                        G  GS    MP  ORB   PF        PPG   PTS   PlayerID Pos  \\\n",
       "Player                                                                          \n",
       "Giannis Antetokounmpo  63  63  2024  137  197  31.095238  1959  antetgi01  PF   \n",
       "Bradley Beal           50  50  1673   41  107  23.200000  1160   bealbr01  SG   \n",
       "Stephen Curry          56  56  1941   39  117  29.428571  1648  curryst01  PG   \n",
       "Kevin Durant           47  47  1672   17   99  29.063830  1366  duranke01  PF   \n",
       "Paul George            56  56  1939   45  159  23.785714  1332  georgpa01  SG   \n",
       "LeBron James           55  54  1954   65   88  28.909091  1590  jamesle01  PF   \n",
       "Kawhi Leonard          52  50  1748   57   84  23.826923  1239  leonaka01  SF   \n",
       "Damian Lillard         58  58  2107   44  109  32.172414  1866  lillada01  PG   \n",
       "John Wall              34   3   755   14   59  11.352941   386   walljo01  PG   \n",
       "Russell Westbrook      73  24  2126   89  162  15.876712  1159  westbru01  PG   \n",
       "\n",
       "                            SPG  STL    TOV  TRB       TRPG   Tm   astToTO  \\\n",
       "Player                                                                       \n",
       "Giannis Antetokounmpo  0.825397   52  246.0  742  11.777778  MIL  1.459350   \n",
       "Bradley Beal           0.900000   45  145.0  196   3.920000  WAS  1.868966   \n",
       "Stephen Curry          0.928571   52  179.0  341   6.089286  GSW  1.966480   \n",
       "Kevin Durant           0.723404   34  156.0  313   6.659574  TOT  1.506410   \n",
       "Paul George            1.482143   83  176.0  342   6.107143  LAC  1.636364   \n",
       "LeBron James           0.909091   50  178.0  457   8.309091  LAL  2.106742   \n",
       "Kawhi Leonard          1.384615   72   88.0  338   6.500000  LAC  2.318182   \n",
       "Damian Lillard         0.862069   50  191.0  277   4.775862  POR  2.225131   \n",
       "John Wall              0.794118   27   80.0   92   2.705882  LAC  2.225000   \n",
       "Russell Westbrook      1.041096   76  255.0  423   5.794521  TOT  2.160784   \n",
       "\n",
       "                        eFG%    salary  dollarPerMinute  dollarPerFG  \\\n",
       "Player                                                                 \n",
       "Giannis Antetokounmpo  0.572  42492492         20994.31     60102.53   \n",
       "Bradley Beal           0.551  43279250         25869.25     97475.79   \n",
       "Stephen Curry          0.614  48070014         24765.59     85992.87   \n",
       "Kevin Durant           0.614  44119845         26387.47     91345.43   \n",
       "Paul George            0.536  42492492         21914.64     92576.24   \n",
       "LeBron James           0.549  44474988         22761.00     73029.54   \n",
       "Kawhi Leonard          0.572  42492492         24309.21     95274.65   \n",
       "Damian Lillard         0.564  42492492         20167.30     76425.35   \n",
       "John Wall              0.457  47345760         62709.62    343085.22   \n",
       "Russell Westbrook      0.481  47559433         22370.38    110091.28   \n",
       "\n",
       "                       dollarPerPoint  \n",
       "Player                                 \n",
       "Giannis Antetokounmpo        21690.91  \n",
       "Bradley Beal                 37309.70  \n",
       "Stephen Curry                29168.70  \n",
       "Kevin Durant                 32298.57  \n",
       "Paul George                  31901.27  \n",
       "LeBron James                 27971.69  \n",
       "Kawhi Leonard                34295.80  \n",
       "Damian Lillard               22771.97  \n",
       "John Wall                   122657.41  \n",
       "Russell Westbrook            41034.89  "
      ]
     },
     "execution_count": 12,
     "metadata": {},
     "output_type": "execute_result"
    }
   ],
   "source": [
    "outliers"
   ]
  },
  {
   "cell_type": "markdown",
   "metadata": {},
   "source": [
    "Some notable observations of the outliers:\n",
    "- Of the 10 outliers, 4 of them are point guards. This helps explain why the point guard mean salary is so high compared to the other positions. \n",
    "- 8 players are over the age of 30, with LeBron James being the oldest at 38. This is encouraging for younger players hoping to be able to earn as they age over time.\n",
    "- 2 of these players, Russell Westbrook and John Wall, have a much lower PPG than the others. They are both over 30, so it's possible that these players are near the end of a max contract they signed back in their \"prime\", or perhaps they got injured and haven't been able to play relative to their earnings.\n",
    "- There are no Centers in the list of outliers. The Center position had the 3rd highest mean salary and the 4th highest median salary."
   ]
  },
  {
   "cell_type": "code",
   "execution_count": null,
   "metadata": {},
   "outputs": [],
   "source": [
    "#side_by_side(sa.minLeast.head(),sa.minMost.head())"
   ]
  },
  {
   "cell_type": "code",
   "execution_count": null,
   "metadata": {},
   "outputs": [
    {
     "data": {
      "application/vnd.plotly.v1+json": {
       "config": {
        "plotlyServerURL": "https://plot.ly"
       },
       "data": [
        {
         "alignmentgroup": "True",
         "hovertemplate": "Player=%{x}<br>dollarPerMinute=%{y}<extra></extra>",
         "legendgroup": "",
         "marker": {
          "color": "#636efa",
          "pattern": {
           "shape": ""
          }
         },
         "name": "",
         "offsetgroup": "",
         "orientation": "v",
         "showlegend": false,
         "textposition": "auto",
         "type": "bar",
         "x": [
          "Dylan Windler",
          "Kemba Walker",
          "Jonathan Isaac",
          "Sterling Brown",
          "Danny Green",
          "Daniel Theis",
          "Marko Simonovic",
          "Vernon Carey Jr.",
          "John Wall",
          "Chima Moneke"
         ],
         "xaxis": "x",
         "y": [
          403727.8,
          258897.65,
          140322.58,
          125000,
          84858.9,
          79764.85,
          78175.9,
          63665.04,
          62709.62,
          62500
         ],
         "yaxis": "y"
        }
       ],
       "layout": {
        "barmode": "relative",
        "legend": {
         "tracegroupgap": 0
        },
        "margin": {
         "t": 60
        },
        "template": {
         "data": {
          "bar": [
           {
            "error_x": {
             "color": "#2a3f5f"
            },
            "error_y": {
             "color": "#2a3f5f"
            },
            "marker": {
             "line": {
              "color": "#E5ECF6",
              "width": 0.5
             },
             "pattern": {
              "fillmode": "overlay",
              "size": 10,
              "solidity": 0.2
             }
            },
            "type": "bar"
           }
          ],
          "barpolar": [
           {
            "marker": {
             "line": {
              "color": "#E5ECF6",
              "width": 0.5
             },
             "pattern": {
              "fillmode": "overlay",
              "size": 10,
              "solidity": 0.2
             }
            },
            "type": "barpolar"
           }
          ],
          "carpet": [
           {
            "aaxis": {
             "endlinecolor": "#2a3f5f",
             "gridcolor": "white",
             "linecolor": "white",
             "minorgridcolor": "white",
             "startlinecolor": "#2a3f5f"
            },
            "baxis": {
             "endlinecolor": "#2a3f5f",
             "gridcolor": "white",
             "linecolor": "white",
             "minorgridcolor": "white",
             "startlinecolor": "#2a3f5f"
            },
            "type": "carpet"
           }
          ],
          "choropleth": [
           {
            "colorbar": {
             "outlinewidth": 0,
             "ticks": ""
            },
            "type": "choropleth"
           }
          ],
          "contour": [
           {
            "colorbar": {
             "outlinewidth": 0,
             "ticks": ""
            },
            "colorscale": [
             [
              0,
              "#0d0887"
             ],
             [
              0.1111111111111111,
              "#46039f"
             ],
             [
              0.2222222222222222,
              "#7201a8"
             ],
             [
              0.3333333333333333,
              "#9c179e"
             ],
             [
              0.4444444444444444,
              "#bd3786"
             ],
             [
              0.5555555555555556,
              "#d8576b"
             ],
             [
              0.6666666666666666,
              "#ed7953"
             ],
             [
              0.7777777777777778,
              "#fb9f3a"
             ],
             [
              0.8888888888888888,
              "#fdca26"
             ],
             [
              1,
              "#f0f921"
             ]
            ],
            "type": "contour"
           }
          ],
          "contourcarpet": [
           {
            "colorbar": {
             "outlinewidth": 0,
             "ticks": ""
            },
            "type": "contourcarpet"
           }
          ],
          "heatmap": [
           {
            "colorbar": {
             "outlinewidth": 0,
             "ticks": ""
            },
            "colorscale": [
             [
              0,
              "#0d0887"
             ],
             [
              0.1111111111111111,
              "#46039f"
             ],
             [
              0.2222222222222222,
              "#7201a8"
             ],
             [
              0.3333333333333333,
              "#9c179e"
             ],
             [
              0.4444444444444444,
              "#bd3786"
             ],
             [
              0.5555555555555556,
              "#d8576b"
             ],
             [
              0.6666666666666666,
              "#ed7953"
             ],
             [
              0.7777777777777778,
              "#fb9f3a"
             ],
             [
              0.8888888888888888,
              "#fdca26"
             ],
             [
              1,
              "#f0f921"
             ]
            ],
            "type": "heatmap"
           }
          ],
          "heatmapgl": [
           {
            "colorbar": {
             "outlinewidth": 0,
             "ticks": ""
            },
            "colorscale": [
             [
              0,
              "#0d0887"
             ],
             [
              0.1111111111111111,
              "#46039f"
             ],
             [
              0.2222222222222222,
              "#7201a8"
             ],
             [
              0.3333333333333333,
              "#9c179e"
             ],
             [
              0.4444444444444444,
              "#bd3786"
             ],
             [
              0.5555555555555556,
              "#d8576b"
             ],
             [
              0.6666666666666666,
              "#ed7953"
             ],
             [
              0.7777777777777778,
              "#fb9f3a"
             ],
             [
              0.8888888888888888,
              "#fdca26"
             ],
             [
              1,
              "#f0f921"
             ]
            ],
            "type": "heatmapgl"
           }
          ],
          "histogram": [
           {
            "marker": {
             "pattern": {
              "fillmode": "overlay",
              "size": 10,
              "solidity": 0.2
             }
            },
            "type": "histogram"
           }
          ],
          "histogram2d": [
           {
            "colorbar": {
             "outlinewidth": 0,
             "ticks": ""
            },
            "colorscale": [
             [
              0,
              "#0d0887"
             ],
             [
              0.1111111111111111,
              "#46039f"
             ],
             [
              0.2222222222222222,
              "#7201a8"
             ],
             [
              0.3333333333333333,
              "#9c179e"
             ],
             [
              0.4444444444444444,
              "#bd3786"
             ],
             [
              0.5555555555555556,
              "#d8576b"
             ],
             [
              0.6666666666666666,
              "#ed7953"
             ],
             [
              0.7777777777777778,
              "#fb9f3a"
             ],
             [
              0.8888888888888888,
              "#fdca26"
             ],
             [
              1,
              "#f0f921"
             ]
            ],
            "type": "histogram2d"
           }
          ],
          "histogram2dcontour": [
           {
            "colorbar": {
             "outlinewidth": 0,
             "ticks": ""
            },
            "colorscale": [
             [
              0,
              "#0d0887"
             ],
             [
              0.1111111111111111,
              "#46039f"
             ],
             [
              0.2222222222222222,
              "#7201a8"
             ],
             [
              0.3333333333333333,
              "#9c179e"
             ],
             [
              0.4444444444444444,
              "#bd3786"
             ],
             [
              0.5555555555555556,
              "#d8576b"
             ],
             [
              0.6666666666666666,
              "#ed7953"
             ],
             [
              0.7777777777777778,
              "#fb9f3a"
             ],
             [
              0.8888888888888888,
              "#fdca26"
             ],
             [
              1,
              "#f0f921"
             ]
            ],
            "type": "histogram2dcontour"
           }
          ],
          "mesh3d": [
           {
            "colorbar": {
             "outlinewidth": 0,
             "ticks": ""
            },
            "type": "mesh3d"
           }
          ],
          "parcoords": [
           {
            "line": {
             "colorbar": {
              "outlinewidth": 0,
              "ticks": ""
             }
            },
            "type": "parcoords"
           }
          ],
          "pie": [
           {
            "automargin": true,
            "type": "pie"
           }
          ],
          "scatter": [
           {
            "fillpattern": {
             "fillmode": "overlay",
             "size": 10,
             "solidity": 0.2
            },
            "type": "scatter"
           }
          ],
          "scatter3d": [
           {
            "line": {
             "colorbar": {
              "outlinewidth": 0,
              "ticks": ""
             }
            },
            "marker": {
             "colorbar": {
              "outlinewidth": 0,
              "ticks": ""
             }
            },
            "type": "scatter3d"
           }
          ],
          "scattercarpet": [
           {
            "marker": {
             "colorbar": {
              "outlinewidth": 0,
              "ticks": ""
             }
            },
            "type": "scattercarpet"
           }
          ],
          "scattergeo": [
           {
            "marker": {
             "colorbar": {
              "outlinewidth": 0,
              "ticks": ""
             }
            },
            "type": "scattergeo"
           }
          ],
          "scattergl": [
           {
            "marker": {
             "colorbar": {
              "outlinewidth": 0,
              "ticks": ""
             }
            },
            "type": "scattergl"
           }
          ],
          "scattermapbox": [
           {
            "marker": {
             "colorbar": {
              "outlinewidth": 0,
              "ticks": ""
             }
            },
            "type": "scattermapbox"
           }
          ],
          "scatterpolar": [
           {
            "marker": {
             "colorbar": {
              "outlinewidth": 0,
              "ticks": ""
             }
            },
            "type": "scatterpolar"
           }
          ],
          "scatterpolargl": [
           {
            "marker": {
             "colorbar": {
              "outlinewidth": 0,
              "ticks": ""
             }
            },
            "type": "scatterpolargl"
           }
          ],
          "scatterternary": [
           {
            "marker": {
             "colorbar": {
              "outlinewidth": 0,
              "ticks": ""
             }
            },
            "type": "scatterternary"
           }
          ],
          "surface": [
           {
            "colorbar": {
             "outlinewidth": 0,
             "ticks": ""
            },
            "colorscale": [
             [
              0,
              "#0d0887"
             ],
             [
              0.1111111111111111,
              "#46039f"
             ],
             [
              0.2222222222222222,
              "#7201a8"
             ],
             [
              0.3333333333333333,
              "#9c179e"
             ],
             [
              0.4444444444444444,
              "#bd3786"
             ],
             [
              0.5555555555555556,
              "#d8576b"
             ],
             [
              0.6666666666666666,
              "#ed7953"
             ],
             [
              0.7777777777777778,
              "#fb9f3a"
             ],
             [
              0.8888888888888888,
              "#fdca26"
             ],
             [
              1,
              "#f0f921"
             ]
            ],
            "type": "surface"
           }
          ],
          "table": [
           {
            "cells": {
             "fill": {
              "color": "#EBF0F8"
             },
             "line": {
              "color": "white"
             }
            },
            "header": {
             "fill": {
              "color": "#C8D4E3"
             },
             "line": {
              "color": "white"
             }
            },
            "type": "table"
           }
          ]
         },
         "layout": {
          "annotationdefaults": {
           "arrowcolor": "#2a3f5f",
           "arrowhead": 0,
           "arrowwidth": 1
          },
          "autotypenumbers": "strict",
          "coloraxis": {
           "colorbar": {
            "outlinewidth": 0,
            "ticks": ""
           }
          },
          "colorscale": {
           "diverging": [
            [
             0,
             "#8e0152"
            ],
            [
             0.1,
             "#c51b7d"
            ],
            [
             0.2,
             "#de77ae"
            ],
            [
             0.3,
             "#f1b6da"
            ],
            [
             0.4,
             "#fde0ef"
            ],
            [
             0.5,
             "#f7f7f7"
            ],
            [
             0.6,
             "#e6f5d0"
            ],
            [
             0.7,
             "#b8e186"
            ],
            [
             0.8,
             "#7fbc41"
            ],
            [
             0.9,
             "#4d9221"
            ],
            [
             1,
             "#276419"
            ]
           ],
           "sequential": [
            [
             0,
             "#0d0887"
            ],
            [
             0.1111111111111111,
             "#46039f"
            ],
            [
             0.2222222222222222,
             "#7201a8"
            ],
            [
             0.3333333333333333,
             "#9c179e"
            ],
            [
             0.4444444444444444,
             "#bd3786"
            ],
            [
             0.5555555555555556,
             "#d8576b"
            ],
            [
             0.6666666666666666,
             "#ed7953"
            ],
            [
             0.7777777777777778,
             "#fb9f3a"
            ],
            [
             0.8888888888888888,
             "#fdca26"
            ],
            [
             1,
             "#f0f921"
            ]
           ],
           "sequentialminus": [
            [
             0,
             "#0d0887"
            ],
            [
             0.1111111111111111,
             "#46039f"
            ],
            [
             0.2222222222222222,
             "#7201a8"
            ],
            [
             0.3333333333333333,
             "#9c179e"
            ],
            [
             0.4444444444444444,
             "#bd3786"
            ],
            [
             0.5555555555555556,
             "#d8576b"
            ],
            [
             0.6666666666666666,
             "#ed7953"
            ],
            [
             0.7777777777777778,
             "#fb9f3a"
            ],
            [
             0.8888888888888888,
             "#fdca26"
            ],
            [
             1,
             "#f0f921"
            ]
           ]
          },
          "colorway": [
           "#636efa",
           "#EF553B",
           "#00cc96",
           "#ab63fa",
           "#FFA15A",
           "#19d3f3",
           "#FF6692",
           "#B6E880",
           "#FF97FF",
           "#FECB52"
          ],
          "font": {
           "color": "#2a3f5f"
          },
          "geo": {
           "bgcolor": "white",
           "lakecolor": "white",
           "landcolor": "#E5ECF6",
           "showlakes": true,
           "showland": true,
           "subunitcolor": "white"
          },
          "hoverlabel": {
           "align": "left"
          },
          "hovermode": "closest",
          "mapbox": {
           "style": "light"
          },
          "paper_bgcolor": "white",
          "plot_bgcolor": "#E5ECF6",
          "polar": {
           "angularaxis": {
            "gridcolor": "white",
            "linecolor": "white",
            "ticks": ""
           },
           "bgcolor": "#E5ECF6",
           "radialaxis": {
            "gridcolor": "white",
            "linecolor": "white",
            "ticks": ""
           }
          },
          "scene": {
           "xaxis": {
            "backgroundcolor": "#E5ECF6",
            "gridcolor": "white",
            "gridwidth": 2,
            "linecolor": "white",
            "showbackground": true,
            "ticks": "",
            "zerolinecolor": "white"
           },
           "yaxis": {
            "backgroundcolor": "#E5ECF6",
            "gridcolor": "white",
            "gridwidth": 2,
            "linecolor": "white",
            "showbackground": true,
            "ticks": "",
            "zerolinecolor": "white"
           },
           "zaxis": {
            "backgroundcolor": "#E5ECF6",
            "gridcolor": "white",
            "gridwidth": 2,
            "linecolor": "white",
            "showbackground": true,
            "ticks": "",
            "zerolinecolor": "white"
           }
          },
          "shapedefaults": {
           "line": {
            "color": "#2a3f5f"
           }
          },
          "ternary": {
           "aaxis": {
            "gridcolor": "white",
            "linecolor": "white",
            "ticks": ""
           },
           "baxis": {
            "gridcolor": "white",
            "linecolor": "white",
            "ticks": ""
           },
           "bgcolor": "#E5ECF6",
           "caxis": {
            "gridcolor": "white",
            "linecolor": "white",
            "ticks": ""
           }
          },
          "title": {
           "x": 0.05
          },
          "xaxis": {
           "automargin": true,
           "gridcolor": "white",
           "linecolor": "white",
           "ticks": "",
           "title": {
            "standoff": 15
           },
           "zerolinecolor": "white",
           "zerolinewidth": 2
          },
          "yaxis": {
           "automargin": true,
           "gridcolor": "white",
           "linecolor": "white",
           "ticks": "",
           "title": {
            "standoff": 15
           },
           "zerolinecolor": "white",
           "zerolinewidth": 2
          }
         }
        },
        "xaxis": {
         "anchor": "y",
         "domain": [
          0,
          1
         ],
         "showticklabels": false,
         "title": {
          "text": "Player"
         }
        },
        "yaxis": {
         "anchor": "x",
         "domain": [
          0,
          1
         ],
         "title": {
          "text": "dollarPerMinute"
         }
        }
       }
      }
     },
     "metadata": {},
     "output_type": "display_data"
    }
   ],
   "source": [
    "minMost = df['dollarPerMinute'].sort_values(ascending=False)\n",
    "fig = px.bar(minMost.head(10), y='dollarPerMinute')\n",
    "fig.update_xaxes(showticklabels=False)\n",
    "fig.show()"
   ]
  },
  {
   "cell_type": "code",
   "execution_count": null,
   "metadata": {},
   "outputs": [
    {
     "data": {
      "image/png": "[encoded data removed]",
      "text/plain": [
       "<Figure size 640x480 with 1 Axes>"
      ]
     },
     "metadata": {},
     "output_type": "display_data"
    }
   ],
   "source": [
    "ax = sns.histplot(data = df, x='salary', kde=True, bins = 20).set(title='Dist of Salary') #just testing"
   ]
  },
  {
   "cell_type": "code",
   "execution_count": null,
   "metadata": {},
   "outputs": [
    {
     "data": {
      "text/html": [
       "<div>\n",
       "<style scoped>\n",
       "    .dataframe tbody tr th:only-of-type {\n",
       "        vertical-align: middle;\n",
       "    }\n",
       "\n",
       "    .dataframe tbody tr th {\n",
       "        vertical-align: top;\n",
       "    }\n",
       "\n",
       "    .dataframe thead th {\n",
       "        text-align: right;\n",
       "    }\n",
       "</style>\n",
       "<table border=\"1\" class=\"dataframe\">\n",
       "  <thead>\n",
       "    <tr style=\"text-align: right;\">\n",
       "      <th></th>\n",
       "      <th>All</th>\n",
       "      <th>PG</th>\n",
       "      <th>SG</th>\n",
       "      <th>SF</th>\n",
       "      <th>PF</th>\n",
       "      <th>C</th>\n",
       "    </tr>\n",
       "  </thead>\n",
       "  <tbody>\n",
       "    <tr>\n",
       "      <th>PPG</th>\n",
       "      <td>0.722858</td>\n",
       "      <td>0.663703</td>\n",
       "      <td>0.707760</td>\n",
       "      <td>0.723118</td>\n",
       "      <td>0.747987</td>\n",
       "      <td>0.819297</td>\n",
       "    </tr>\n",
       "    <tr>\n",
       "      <th>PTS</th>\n",
       "      <td>0.652559</td>\n",
       "      <td>0.624945</td>\n",
       "      <td>0.660861</td>\n",
       "      <td>0.541605</td>\n",
       "      <td>0.670554</td>\n",
       "      <td>0.781178</td>\n",
       "    </tr>\n",
       "    <tr>\n",
       "      <th>FG</th>\n",
       "      <td>0.643683</td>\n",
       "      <td>0.617011</td>\n",
       "      <td>0.650419</td>\n",
       "      <td>0.542621</td>\n",
       "      <td>0.658926</td>\n",
       "      <td>0.766507</td>\n",
       "    </tr>\n",
       "    <tr>\n",
       "      <th>FGA</th>\n",
       "      <td>0.623244</td>\n",
       "      <td>0.597939</td>\n",
       "      <td>0.651549</td>\n",
       "      <td>0.513856</td>\n",
       "      <td>0.628688</td>\n",
       "      <td>0.776713</td>\n",
       "    </tr>\n",
       "    <tr>\n",
       "      <th>FT</th>\n",
       "      <td>0.621678</td>\n",
       "      <td>0.590549</td>\n",
       "      <td>0.576087</td>\n",
       "      <td>0.533473</td>\n",
       "      <td>0.651387</td>\n",
       "      <td>0.740134</td>\n",
       "    </tr>\n",
       "    <tr>\n",
       "      <th>FTA</th>\n",
       "      <td>0.613507</td>\n",
       "      <td>0.598968</td>\n",
       "      <td>0.553579</td>\n",
       "      <td>0.520421</td>\n",
       "      <td>0.628847</td>\n",
       "      <td>0.739888</td>\n",
       "    </tr>\n",
       "    <tr>\n",
       "      <th>2PA</th>\n",
       "      <td>0.610352</td>\n",
       "      <td>0.566682</td>\n",
       "      <td>0.584442</td>\n",
       "      <td>0.564289</td>\n",
       "      <td>0.603232</td>\n",
       "      <td>0.746666</td>\n",
       "    </tr>\n",
       "    <tr>\n",
       "      <th>2P</th>\n",
       "      <td>0.608308</td>\n",
       "      <td>0.582384</td>\n",
       "      <td>0.578622</td>\n",
       "      <td>0.563489</td>\n",
       "      <td>0.624948</td>\n",
       "      <td>0.730331</td>\n",
       "    </tr>\n",
       "    <tr>\n",
       "      <th>TOV</th>\n",
       "      <td>0.595574</td>\n",
       "      <td>0.607226</td>\n",
       "      <td>0.537391</td>\n",
       "      <td>0.477315</td>\n",
       "      <td>0.640013</td>\n",
       "      <td>0.664398</td>\n",
       "    </tr>\n",
       "    <tr>\n",
       "      <th>APG</th>\n",
       "      <td>0.584555</td>\n",
       "      <td>0.611871</td>\n",
       "      <td>0.539204</td>\n",
       "      <td>0.691410</td>\n",
       "      <td>0.710126</td>\n",
       "      <td>0.588766</td>\n",
       "    </tr>\n",
       "    <tr>\n",
       "      <th>AST</th>\n",
       "      <td>0.560558</td>\n",
       "      <td>0.587221</td>\n",
       "      <td>0.523297</td>\n",
       "      <td>0.558620</td>\n",
       "      <td>0.639912</td>\n",
       "      <td>0.570838</td>\n",
       "    </tr>\n",
       "    <tr>\n",
       "      <th>GS</th>\n",
       "      <td>0.553716</td>\n",
       "      <td>0.551457</td>\n",
       "      <td>0.547374</td>\n",
       "      <td>0.445674</td>\n",
       "      <td>0.532660</td>\n",
       "      <td>0.714877</td>\n",
       "    </tr>\n",
       "    <tr>\n",
       "      <th>MP</th>\n",
       "      <td>0.507031</td>\n",
       "      <td>0.513097</td>\n",
       "      <td>0.537671</td>\n",
       "      <td>0.337787</td>\n",
       "      <td>0.490040</td>\n",
       "      <td>0.682258</td>\n",
       "    </tr>\n",
       "    <tr>\n",
       "      <th>DRB</th>\n",
       "      <td>0.497918</td>\n",
       "      <td>0.600775</td>\n",
       "      <td>0.461852</td>\n",
       "      <td>0.373390</td>\n",
       "      <td>0.573873</td>\n",
       "      <td>0.684859</td>\n",
       "    </tr>\n",
       "    <tr>\n",
       "      <th>TRPG</th>\n",
       "      <td>0.483603</td>\n",
       "      <td>0.599317</td>\n",
       "      <td>0.445923</td>\n",
       "      <td>0.537022</td>\n",
       "      <td>0.628498</td>\n",
       "      <td>0.677078</td>\n",
       "    </tr>\n",
       "    <tr>\n",
       "      <th>3P</th>\n",
       "      <td>0.453603</td>\n",
       "      <td>0.526499</td>\n",
       "      <td>0.637847</td>\n",
       "      <td>0.290501</td>\n",
       "      <td>0.477430</td>\n",
       "      <td>0.485044</td>\n",
       "    </tr>\n",
       "    <tr>\n",
       "      <th>3PA</th>\n",
       "      <td>0.452800</td>\n",
       "      <td>0.515435</td>\n",
       "      <td>0.635656</td>\n",
       "      <td>0.276214</td>\n",
       "      <td>0.490232</td>\n",
       "      <td>0.489811</td>\n",
       "    </tr>\n",
       "    <tr>\n",
       "      <th>SPG</th>\n",
       "      <td>0.450033</td>\n",
       "      <td>0.361382</td>\n",
       "      <td>0.445769</td>\n",
       "      <td>0.498958</td>\n",
       "      <td>0.385632</td>\n",
       "      <td>0.669491</td>\n",
       "    </tr>\n",
       "    <tr>\n",
       "      <th>TRB</th>\n",
       "      <td>0.439511</td>\n",
       "      <td>0.594798</td>\n",
       "      <td>0.428826</td>\n",
       "      <td>0.351228</td>\n",
       "      <td>0.503075</td>\n",
       "      <td>0.630139</td>\n",
       "    </tr>\n",
       "    <tr>\n",
       "      <th>STL</th>\n",
       "      <td>0.426875</td>\n",
       "      <td>0.368259</td>\n",
       "      <td>0.446283</td>\n",
       "      <td>0.382539</td>\n",
       "      <td>0.340501</td>\n",
       "      <td>0.647270</td>\n",
       "    </tr>\n",
       "    <tr>\n",
       "      <th>Age</th>\n",
       "      <td>0.364096</td>\n",
       "      <td>0.413074</td>\n",
       "      <td>0.410024</td>\n",
       "      <td>0.390406</td>\n",
       "      <td>0.468210</td>\n",
       "      <td>0.102751</td>\n",
       "    </tr>\n",
       "    <tr>\n",
       "      <th>PF</th>\n",
       "      <td>0.357540</td>\n",
       "      <td>0.370925</td>\n",
       "      <td>0.422847</td>\n",
       "      <td>0.156752</td>\n",
       "      <td>0.346186</td>\n",
       "      <td>0.528384</td>\n",
       "    </tr>\n",
       "    <tr>\n",
       "      <th>BPG</th>\n",
       "      <td>0.280665</td>\n",
       "      <td>0.466534</td>\n",
       "      <td>0.267697</td>\n",
       "      <td>0.277615</td>\n",
       "      <td>0.338195</td>\n",
       "      <td>0.474233</td>\n",
       "    </tr>\n",
       "    <tr>\n",
       "      <th>BLK</th>\n",
       "      <td>0.279421</td>\n",
       "      <td>0.461962</td>\n",
       "      <td>0.379184</td>\n",
       "      <td>0.200262</td>\n",
       "      <td>0.289316</td>\n",
       "      <td>0.454749</td>\n",
       "    </tr>\n",
       "    <tr>\n",
       "      <th>G</th>\n",
       "      <td>0.230807</td>\n",
       "      <td>0.232153</td>\n",
       "      <td>0.306360</td>\n",
       "      <td>0.072920</td>\n",
       "      <td>0.181190</td>\n",
       "      <td>0.370640</td>\n",
       "    </tr>\n",
       "    <tr>\n",
       "      <th>ORB</th>\n",
       "      <td>0.218151</td>\n",
       "      <td>0.463816</td>\n",
       "      <td>0.217504</td>\n",
       "      <td>0.220581</td>\n",
       "      <td>0.162802</td>\n",
       "      <td>0.421756</td>\n",
       "    </tr>\n",
       "    <tr>\n",
       "      <th>dollarPerMinute</th>\n",
       "      <td>0.196572</td>\n",
       "      <td>0.406865</td>\n",
       "      <td>0.147641</td>\n",
       "      <td>0.059358</td>\n",
       "      <td>0.385071</td>\n",
       "      <td>0.113889</td>\n",
       "    </tr>\n",
       "    <tr>\n",
       "      <th>FT%</th>\n",
       "      <td>0.188191</td>\n",
       "      <td>0.193964</td>\n",
       "      <td>0.142300</td>\n",
       "      <td>0.245335</td>\n",
       "      <td>0.271428</td>\n",
       "      <td>0.127234</td>\n",
       "    </tr>\n",
       "    <tr>\n",
       "      <th>eFG%</th>\n",
       "      <td>0.142849</td>\n",
       "      <td>0.343213</td>\n",
       "      <td>0.206167</td>\n",
       "      <td>0.147274</td>\n",
       "      <td>0.157355</td>\n",
       "      <td>0.050385</td>\n",
       "    </tr>\n",
       "    <tr>\n",
       "      <th>FG%</th>\n",
       "      <td>0.128971</td>\n",
       "      <td>0.354871</td>\n",
       "      <td>0.194122</td>\n",
       "      <td>0.236640</td>\n",
       "      <td>0.125649</td>\n",
       "      <td>0.034363</td>\n",
       "    </tr>\n",
       "    <tr>\n",
       "      <th>astToTO</th>\n",
       "      <td>0.125123</td>\n",
       "      <td>0.021931</td>\n",
       "      <td>0.001126</td>\n",
       "      <td>0.126991</td>\n",
       "      <td>0.158691</td>\n",
       "      <td>0.200467</td>\n",
       "    </tr>\n",
       "    <tr>\n",
       "      <th>dollarPerFG</th>\n",
       "      <td>0.107760</td>\n",
       "      <td>0.333844</td>\n",
       "      <td>0.056047</td>\n",
       "      <td>-0.006453</td>\n",
       "      <td>0.220177</td>\n",
       "      <td>-0.034235</td>\n",
       "    </tr>\n",
       "    <tr>\n",
       "      <th>dollarPerPoint</th>\n",
       "      <td>0.093077</td>\n",
       "      <td>0.338339</td>\n",
       "      <td>0.026554</td>\n",
       "      <td>-0.016331</td>\n",
       "      <td>0.210748</td>\n",
       "      <td>-0.026041</td>\n",
       "    </tr>\n",
       "    <tr>\n",
       "      <th>3P%</th>\n",
       "      <td>0.086511</td>\n",
       "      <td>0.040985</td>\n",
       "      <td>0.223951</td>\n",
       "      <td>0.216875</td>\n",
       "      <td>0.246109</td>\n",
       "      <td>-0.027981</td>\n",
       "    </tr>\n",
       "    <tr>\n",
       "      <th>2P%</th>\n",
       "      <td>0.053687</td>\n",
       "      <td>0.283388</td>\n",
       "      <td>0.033498</td>\n",
       "      <td>0.020790</td>\n",
       "      <td>0.024744</td>\n",
       "      <td>0.020689</td>\n",
       "    </tr>\n",
       "  </tbody>\n",
       "</table>\n",
       "</div>"
      ],
      "text/plain": [
       "                      All        PG        SG        SF        PF         C\n",
       "PPG              0.722858  0.663703  0.707760  0.723118  0.747987  0.819297\n",
       "PTS              0.652559  0.624945  0.660861  0.541605  0.670554  0.781178\n",
       "FG               0.643683  0.617011  0.650419  0.542621  0.658926  0.766507\n",
       "FGA              0.623244  0.597939  0.651549  0.513856  0.628688  0.776713\n",
       "FT               0.621678  0.590549  0.576087  0.533473  0.651387  0.740134\n",
       "FTA              0.613507  0.598968  0.553579  0.520421  0.628847  0.739888\n",
       "2PA              0.610352  0.566682  0.584442  0.564289  0.603232  0.746666\n",
       "2P               0.608308  0.582384  0.578622  0.563489  0.624948  0.730331\n",
       "TOV              0.595574  0.607226  0.537391  0.477315  0.640013  0.664398\n",
       "APG              0.584555  0.611871  0.539204  0.691410  0.710126  0.588766\n",
       "AST              0.560558  0.587221  0.523297  0.558620  0.639912  0.570838\n",
       "GS               0.553716  0.551457  0.547374  0.445674  0.532660  0.714877\n",
       "MP               0.507031  0.513097  0.537671  0.337787  0.490040  0.682258\n",
       "DRB              0.497918  0.600775  0.461852  0.373390  0.573873  0.684859\n",
       "TRPG             0.483603  0.599317  0.445923  0.537022  0.628498  0.677078\n",
       "3P               0.453603  0.526499  0.637847  0.290501  0.477430  0.485044\n",
       "3PA              0.452800  0.515435  0.635656  0.276214  0.490232  0.489811\n",
       "SPG              0.450033  0.361382  0.445769  0.498958  0.385632  0.669491\n",
       "TRB              0.439511  0.594798  0.428826  0.351228  0.503075  0.630139\n",
       "STL              0.426875  0.368259  0.446283  0.382539  0.340501  0.647270\n",
       "Age              0.364096  0.413074  0.410024  0.390406  0.468210  0.102751\n",
       "PF               0.357540  0.370925  0.422847  0.156752  0.346186  0.528384\n",
       "BPG              0.280665  0.466534  0.267697  0.277615  0.338195  0.474233\n",
       "BLK              0.279421  0.461962  0.379184  0.200262  0.289316  0.454749\n",
       "G                0.230807  0.232153  0.306360  0.072920  0.181190  0.370640\n",
       "ORB              0.218151  0.463816  0.217504  0.220581  0.162802  0.421756\n",
       "dollarPerMinute  0.196572  0.406865  0.147641  0.059358  0.385071  0.113889\n",
       "FT%              0.188191  0.193964  0.142300  0.245335  0.271428  0.127234\n",
       "eFG%             0.142849  0.343213  0.206167  0.147274  0.157355  0.050385\n",
       "FG%              0.128971  0.354871  0.194122  0.236640  0.125649  0.034363\n",
       "astToTO          0.125123  0.021931  0.001126  0.126991  0.158691  0.200467\n",
       "dollarPerFG      0.107760  0.333844  0.056047 -0.006453  0.220177 -0.034235\n",
       "dollarPerPoint   0.093077  0.338339  0.026554 -0.016331  0.210748 -0.026041\n",
       "3P%              0.086511  0.040985  0.223951  0.216875  0.246109 -0.027981\n",
       "2P%              0.053687  0.283388  0.033498  0.020790  0.024744  0.020689"
      ]
     },
     "execution_count": 16,
     "metadata": {},
     "output_type": "execute_result"
    }
   ],
   "source": [
    "salaryCorr"
   ]
  },
  {
   "cell_type": "code",
   "execution_count": null,
   "metadata": {},
   "outputs": [
    {
     "data": {
      "text/plain": [
       "Player\n",
       "LeBron James    38\n",
       "Name: Age, dtype: int64"
      ]
     },
     "execution_count": 17,
     "metadata": {},
     "output_type": "execute_result"
    }
   ],
   "source": [
    "df.loc[['LeBron James']]['Age']\n",
    "\n"
   ]
  },
  {
   "cell_type": "code",
   "execution_count": null,
   "metadata": {},
   "outputs": [],
   "source": [
    "#age = sa.df['Age'].rank(method='first', ascending= False) creates a rank for the age column and sorts oldest to youngest\n",
    "#age.loc[['LeBron James']] returns 3, so lebron is the 3rd oldest player in the dataset."
   ]
  },
  {
   "cell_type": "code",
   "execution_count": null,
   "metadata": {},
   "outputs": [],
   "source": []
  }
 ],
 "metadata": {
  "kernelspec": {
   "display_name": "Python 3 (ipykernel)",
   "language": "python",
   "name": "python3"
  },
  "language_info": {
   "codemirror_mode": {
    "name": "ipython",
    "version": 3
   },
   "file_extension": ".py",
   "mimetype": "text/x-python",
   "name": "python",
   "nbconvert_exporter": "python",
   "pygments_lexer": "ipython3",
   "version": "3.10.9"
  }
 },
 "nbformat": 4,
 "nbformat_minor": 2
}
